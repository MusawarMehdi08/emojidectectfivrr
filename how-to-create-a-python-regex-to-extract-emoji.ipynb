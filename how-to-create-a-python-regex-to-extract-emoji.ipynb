{
 "cells": [
  {
   "cell_type": "code",
   "execution_count": 1,
   "id": "a2c3f676",
   "metadata": {
    "execution": {
     "iopub.execute_input": "2023-08-07T22:48:54.284694Z",
     "iopub.status.busy": "2023-08-07T22:48:54.284264Z",
     "iopub.status.idle": "2023-08-07T22:49:18.635534Z",
     "shell.execute_reply": "2023-08-07T22:49:18.632873Z"
    },
    "papermill": {
     "duration": 24.374519,
     "end_time": "2023-08-07T22:49:18.639084",
     "exception": false,
     "start_time": "2023-08-07T22:48:54.264565",
     "status": "completed"
    },
    "tags": []
   },
   "outputs": [],
   "source": [
    "%%capture\n",
    "!pip install advertools"
   ]
  },
  {
   "cell_type": "code",
   "execution_count": 2,
   "id": "fadbb202",
   "metadata": {
    "_cell_guid": "b1076dfc-b9ad-4769-8c92-a6c4dae69d19",
    "_uuid": "8f2839f25d086af736a60e9eeb907d3b93b6e0e5",
    "execution": {
     "iopub.execute_input": "2023-08-07T22:49:18.687010Z",
     "iopub.status.busy": "2023-08-07T22:49:18.686562Z",
     "iopub.status.idle": "2023-08-07T22:49:18.715298Z",
     "shell.execute_reply": "2023-08-07T22:49:18.714073Z"
    },
    "papermill": {
     "duration": 0.051786,
     "end_time": "2023-08-07T22:49:18.718485",
     "exception": false,
     "start_time": "2023-08-07T22:49:18.666699",
     "status": "completed"
    },
    "tags": []
   },
   "outputs": [
    {
     "name": "stdout",
     "output_type": "stream",
     "text": [
      "# emoji-test.txt\n",
      "# Date: 2022-08-12, 20:24:39 GMT\n",
      "# © 2022 Unicode®, Inc.\n",
      "# Unicode and the Unicode Logo are registered trademarks of Unicode, Inc. in the U.S. and other countries.\n",
      "# For terms of use, see https://www.unicode.org/terms_of_use.html\n",
      "#\n",
      "# Emoji Keyboard/Display Test Data for UTS #51\n",
      "# Version: 15.0\n",
      "#\n",
      "# For documentation and usage, see https://www.unicode.org/reports/tr51\n",
      "#\n",
      "# This file provides data for testing which emoji forms should be in keyboards and which should also be displayed/processed.\n",
      "# Format: code points; status # emoji name\n",
      "#     Code points — list of one or more hex code points, separated by spaces\n",
      "#     Status\n",
      "#       component           — an Emoji_Component,\n",
      "#                             excluding Regional_Indicators, ASCII, and non-Emoji.\n",
      "#       fully-qualified     — a fully-qualified emoji (see ED-18 in UTS #51),\n",
      "#                             excluding Emoji_Component\n",
      "#       minimally-qualified — a minimally-qualified emoji (see ED-18a in UTS #51)\n",
      "#       unqualified         — a unqualified emoji (See ED-19 in UTS #51)\n",
      "# Notes:\n",
      "#   • This includes the emoji components that need emoji presentation (skin tone and hair)\n",
      "#     when isolated, but omits the components that need not have an emoji\n",
      "#     presentation when isolated.\n",
      "#   • The RGI set is covered by the listed fully-qualified emoji. \n",
      "#   • The listed minimally-qualified and unqualified cover all cases where an\n",
      "#     element of the RGI set is missing one or more emoji presentation selectors.\n",
      "#   • The file is in CLDR order, not codepoint order. This is recommended (but not required!) for keyboard palettes.\n",
      "#   • The groups and subgroups are illustrative. See the Emoji Order chart for more information.\n",
      "\n",
      "\n",
      "# group: Smileys & Emotion\n",
      "\n",
      "# subgroup: face-smiling\n",
      "1F600                                                  ; fully-qualified     # 😀 E1.0 grinning face\n",
      "1F603                                                  ; fully-qualified     # 😃 E0.6 grinning face with big eyes\n",
      "1F604                                                  ; fully-qualified     # 😄 E0.6 grinning face with smiling eyes\n",
      "1F601                                                  ; fully-qualified     # 😁 E0.6 beaming face with smiling eyes\n",
      "1F606                                                  ; fully-qualified     # 😆 E0.6 grinning squinting face\n",
      "1F605                                                  ; fully-qualified     # 😅 E0.6 grinning face with sweat\n",
      "1F923                                                  ; fully-qualified     # 🤣 E3.0 rolling on the floor laughing\n",
      "1F602                                                  ; fully-qualified     # 😂 E0.6 face with tears of joy\n",
      "1F642                                                  ; fully-qualified     # 🙂 E1.0 slightly smiling face\n",
      "1F643                    \n"
     ]
    }
   ],
   "source": [
    "import re\n",
    "from collections import namedtuple, Counter\n",
    "\n",
    "with open('../input/emoji-data-descriptions-codepoints/emoji-test.txt', 'rt') as file:\n",
    "    emoji_raw = file.read()\n",
    "print(emoji_raw[:2800])"
   ]
  },
  {
   "cell_type": "markdown",
   "id": "57331f76",
   "metadata": {
    "papermill": {
     "duration": 0.01739,
     "end_time": "2023-08-07T22:49:18.754721",
     "exception": false,
     "start_time": "2023-08-07T22:49:18.737331",
     "status": "completed"
    },
    "tags": []
   },
   "source": [
    "The first few lines explain some details about the file and how the data are represented. The remainder is like the last lines. Each line represents an emoji, and whenever there is a new group and/or sub-group, those are listed (on a line starting with # and the name of the group/sub-group), to show to group/sub-group, the following emoji belong to. \n",
    "\n",
    "We will go through the lines, one by one, and extract the information that we need and then put them in an easy-to-use format (`namedtuple`) so we can then use them to create the regex and the CSV file.  \n",
    "\n",
    "A few things about emoji that need to be understood in order to get what we want done. \n",
    "\n",
    "# Single and multi code point emoji\n",
    "\n",
    "Some emoji can simply be thought of as regular characters."
   ]
  },
  {
   "cell_type": "code",
   "execution_count": 3,
   "id": "0a318c0c",
   "metadata": {
    "execution": {
     "iopub.execute_input": "2023-08-07T22:49:18.792565Z",
     "iopub.status.busy": "2023-08-07T22:49:18.791703Z",
     "iopub.status.idle": "2023-08-07T22:49:18.798666Z",
     "shell.execute_reply": "2023-08-07T22:49:18.797036Z"
    },
    "papermill": {
     "duration": 0.028748,
     "end_time": "2023-08-07T22:49:18.801168",
     "exception": false,
     "start_time": "2023-08-07T22:49:18.772420",
     "status": "completed"
    },
    "tags": []
   },
   "outputs": [
    {
     "name": "stdout",
     "output_type": "stream",
     "text": [
      "c\n"
     ]
    }
   ],
   "source": [
    "print('\\U00000063')  # the lower-cae letter \"c\" for example"
   ]
  },
  {
   "cell_type": "code",
   "execution_count": 4,
   "id": "d2f24fb9",
   "metadata": {
    "execution": {
     "iopub.execute_input": "2023-08-07T22:49:18.839565Z",
     "iopub.status.busy": "2023-08-07T22:49:18.839075Z",
     "iopub.status.idle": "2023-08-07T22:49:18.844790Z",
     "shell.execute_reply": "2023-08-07T22:49:18.843797Z"
    },
    "papermill": {
     "duration": 0.028205,
     "end_time": "2023-08-07T22:49:18.847461",
     "exception": false,
     "start_time": "2023-08-07T22:49:18.819256",
     "status": "completed"
    },
    "tags": []
   },
   "outputs": [
    {
     "name": "stdout",
     "output_type": "stream",
     "text": [
      "👍\n"
     ]
    }
   ],
   "source": [
    "print('\\U0001F44D')"
   ]
  },
  {
   "cell_type": "markdown",
   "id": "21fc0a0e",
   "metadata": {
    "papermill": {
     "duration": 0.018351,
     "end_time": "2023-08-07T22:49:18.885360",
     "exception": false,
     "start_time": "2023-08-07T22:49:18.867009",
     "status": "completed"
    },
    "tags": []
   },
   "source": [
    "But what about the similar emoji 👍🏿?  \n",
    "Let's first compare the two."
   ]
  },
  {
   "cell_type": "code",
   "execution_count": 5,
   "id": "718b9cfa",
   "metadata": {
    "execution": {
     "iopub.execute_input": "2023-08-07T22:49:18.926610Z",
     "iopub.status.busy": "2023-08-07T22:49:18.925113Z",
     "iopub.status.idle": "2023-08-07T22:49:18.934443Z",
     "shell.execute_reply": "2023-08-07T22:49:18.933223Z"
    },
    "papermill": {
     "duration": 0.033202,
     "end_time": "2023-08-07T22:49:18.937836",
     "exception": false,
     "start_time": "2023-08-07T22:49:18.904634",
     "status": "completed"
    },
    "tags": []
   },
   "outputs": [
    {
     "data": {
      "text/plain": [
       "(1, 2)"
      ]
     },
     "execution_count": 5,
     "metadata": {},
     "output_type": "execute_result"
    }
   ],
   "source": [
    "len('👍'), len('👍🏿')"
   ]
  },
  {
   "cell_type": "markdown",
   "id": "fa704006",
   "metadata": {
    "papermill": {
     "duration": 0.018825,
     "end_time": "2023-08-07T22:49:18.977054",
     "exception": false,
     "start_time": "2023-08-07T22:49:18.958229",
     "status": "completed"
    },
    "tags": []
   },
   "source": [
    "# 🤔"
   ]
  },
  {
   "cell_type": "code",
   "execution_count": 6,
   "id": "57ac8102",
   "metadata": {
    "execution": {
     "iopub.execute_input": "2023-08-07T22:49:19.017610Z",
     "iopub.status.busy": "2023-08-07T22:49:19.017171Z",
     "iopub.status.idle": "2023-08-07T22:49:19.023887Z",
     "shell.execute_reply": "2023-08-07T22:49:19.022317Z"
    },
    "papermill": {
     "duration": 0.031666,
     "end_time": "2023-08-07T22:49:19.027381",
     "exception": false,
     "start_time": "2023-08-07T22:49:18.995715",
     "status": "completed"
    },
    "tags": []
   },
   "outputs": [
    {
     "name": "stdout",
     "output_type": "stream",
     "text": [
      "👍 🏿\n"
     ]
    }
   ],
   "source": [
    "print('👍🏿'[0], '👍🏿'[1])"
   ]
  },
  {
   "cell_type": "code",
   "execution_count": 7,
   "id": "0591d03c",
   "metadata": {
    "execution": {
     "iopub.execute_input": "2023-08-07T22:49:19.068572Z",
     "iopub.status.busy": "2023-08-07T22:49:19.068163Z",
     "iopub.status.idle": "2023-08-07T22:49:19.076111Z",
     "shell.execute_reply": "2023-08-07T22:49:19.074911Z"
    },
    "papermill": {
     "duration": 0.030765,
     "end_time": "2023-08-07T22:49:19.078646",
     "exception": false,
     "start_time": "2023-08-07T22:49:19.047881",
     "status": "completed"
    },
    "tags": []
   },
   "outputs": [
    {
     "data": {
      "text/plain": [
       "('THUMBS UP SIGN', 'THUMBS UP SIGN', 'EMOJI MODIFIER FITZPATRICK TYPE-6')"
      ]
     },
     "execution_count": 7,
     "metadata": {},
     "output_type": "execute_result"
    }
   ],
   "source": [
    "import unicodedata\n",
    "unicodedata.name('👍'), unicodedata.name('👍🏿'[0]), unicodedata.name('👍🏿'[1])"
   ]
  },
  {
   "cell_type": "code",
   "execution_count": 8,
   "id": "205ce083",
   "metadata": {
    "execution": {
     "iopub.execute_input": "2023-08-07T22:49:19.154165Z",
     "iopub.status.busy": "2023-08-07T22:49:19.153649Z",
     "iopub.status.idle": "2023-08-07T22:49:19.163038Z",
     "shell.execute_reply": "2023-08-07T22:49:19.161486Z"
    },
    "papermill": {
     "duration": 0.032145,
     "end_time": "2023-08-07T22:49:19.165707",
     "exception": false,
     "start_time": "2023-08-07T22:49:19.133562",
     "status": "completed"
    },
    "tags": []
   },
   "outputs": [
    {
     "data": {
      "text/plain": [
       "['rest', 'rest']"
      ]
     },
     "execution_count": 8,
     "metadata": {},
     "output_type": "execute_result"
    }
   ],
   "source": [
    "s = 'The rest of my friends are at the restaurant.'\n",
    "regex = re.compile('rest|restaurant')\n",
    "regex.findall(s)"
   ]
  },
  {
   "cell_type": "code",
   "execution_count": 9,
   "id": "366b581c",
   "metadata": {
    "execution": {
     "iopub.execute_input": "2023-08-07T22:49:19.244314Z",
     "iopub.status.busy": "2023-08-07T22:49:19.243809Z",
     "iopub.status.idle": "2023-08-07T22:49:19.252564Z",
     "shell.execute_reply": "2023-08-07T22:49:19.251367Z"
    },
    "papermill": {
     "duration": 0.032092,
     "end_time": "2023-08-07T22:49:19.255159",
     "exception": false,
     "start_time": "2023-08-07T22:49:19.223067",
     "status": "completed"
    },
    "tags": []
   },
   "outputs": [
    {
     "data": {
      "text/plain": [
       "['rest', 'restaurant']"
      ]
     },
     "execution_count": 9,
     "metadata": {},
     "output_type": "execute_result"
    }
   ],
   "source": [
    "regex2 = re.compile('restaurant|rest')\n",
    "regex2.findall(s)"
   ]
  },
  {
   "cell_type": "code",
   "execution_count": 10,
   "id": "f32736d0",
   "metadata": {
    "execution": {
     "iopub.execute_input": "2023-08-07T22:49:19.295829Z",
     "iopub.status.busy": "2023-08-07T22:49:19.295385Z",
     "iopub.status.idle": "2023-08-07T22:49:19.304503Z",
     "shell.execute_reply": "2023-08-07T22:49:19.303083Z"
    },
    "papermill": {
     "duration": 0.03294,
     "end_time": "2023-08-07T22:49:19.307317",
     "exception": false,
     "start_time": "2023-08-07T22:49:19.274377",
     "status": "completed"
    },
    "tags": []
   },
   "outputs": [
    {
     "data": {
      "text/plain": [
       "['👍', '👍']"
      ]
     },
     "execution_count": 10,
     "metadata": {},
     "output_type": "execute_result"
    }
   ],
   "source": [
    "thumbs_sentence = 'This is thumbs up: 👍, and this is thumbs up with dark skin tone: 👍🏿'\n",
    "thumbs_regex = re.compile('👍|👍🏿')\n",
    "\n",
    "thumbs_regex.findall(thumbs_sentence)"
   ]
  },
  {
   "cell_type": "code",
   "execution_count": 11,
   "id": "6acd2197",
   "metadata": {
    "execution": {
     "iopub.execute_input": "2023-08-07T22:49:19.348215Z",
     "iopub.status.busy": "2023-08-07T22:49:19.347744Z",
     "iopub.status.idle": "2023-08-07T22:49:19.357091Z",
     "shell.execute_reply": "2023-08-07T22:49:19.355555Z"
    },
    "papermill": {
     "duration": 0.032996,
     "end_time": "2023-08-07T22:49:19.359727",
     "exception": false,
     "start_time": "2023-08-07T22:49:19.326731",
     "status": "completed"
    },
    "tags": []
   },
   "outputs": [
    {
     "data": {
      "text/plain": [
       "['👍', '👍🏿']"
      ]
     },
     "execution_count": 11,
     "metadata": {},
     "output_type": "execute_result"
    }
   ],
   "source": [
    "thumbs_regex2 = re.compile('👍🏿|👍')\n",
    "thumbs_regex2.findall(thumbs_sentence)"
   ]
  },
  {
   "cell_type": "markdown",
   "id": "508d3948",
   "metadata": {
    "papermill": {
     "duration": 0.019463,
     "end_time": "2023-08-07T22:49:19.399496",
     "exception": false,
     "start_time": "2023-08-07T22:49:19.380033",
     "status": "completed"
    },
    "tags": []
   },
   "source": [
    "Since the dark tone thumbs up emoji is made up of two code points, and since the first one is made of one, we are faced with the same case of \"rest\" and \"restaurant\". The regex finds the first word from left to right, and returns it. As in the previous example, putting the longer word first, made sure that we check for it first, and solves the issue. \n",
    "\n",
    "\n",
    "Here are the two emoji represented by code points. You can see that the first part of each of the 'words' is the same. "
   ]
  },
  {
   "cell_type": "code",
   "execution_count": 12,
   "id": "77bd64b1",
   "metadata": {
    "execution": {
     "iopub.execute_input": "2023-08-07T22:49:19.441294Z",
     "iopub.status.busy": "2023-08-07T22:49:19.439881Z",
     "iopub.status.idle": "2023-08-07T22:49:19.447128Z",
     "shell.execute_reply": "2023-08-07T22:49:19.445578Z"
    },
    "papermill": {
     "duration": 0.030695,
     "end_time": "2023-08-07T22:49:19.449640",
     "exception": false,
     "start_time": "2023-08-07T22:49:19.418945",
     "status": "completed"
    },
    "tags": []
   },
   "outputs": [
    {
     "name": "stdout",
     "output_type": "stream",
     "text": [
      "👍 👍🏿\n"
     ]
    }
   ],
   "source": [
    "print('\\U0001F44D', '\\U0001F44D\\U0001F3FF')  # the U0001F44D code point exists in both"
   ]
  },
  {
   "cell_type": "markdown",
   "id": "ba03603e",
   "metadata": {
    "papermill": {
     "duration": 0.019153,
     "end_time": "2023-08-07T22:49:19.488922",
     "exception": false,
     "start_time": "2023-08-07T22:49:19.469769",
     "status": "completed"
    },
    "tags": []
   },
   "source": [
    "There are five skin tones, as well as four hair types. All of those fall under the group \"component\". Those emoji are not supposed to appear on their own, because they really don't mean anything. They function mainly as modifiers for the previous emoji, appearing right before them.  \n",
    "Here they are, and we will be skipping them when creating the final regex. "
   ]
  },
  {
   "cell_type": "code",
   "execution_count": 13,
   "id": "7bcfa1ef",
   "metadata": {
    "execution": {
     "iopub.execute_input": "2023-08-07T22:49:19.530039Z",
     "iopub.status.busy": "2023-08-07T22:49:19.529563Z",
     "iopub.status.idle": "2023-08-07T22:49:19.542725Z",
     "shell.execute_reply": "2023-08-07T22:49:19.541004Z"
    },
    "papermill": {
     "duration": 0.037292,
     "end_time": "2023-08-07T22:49:19.545621",
     "exception": false,
     "start_time": "2023-08-07T22:49:19.508329",
     "status": "completed"
    },
    "tags": []
   },
   "outputs": [
    {
     "name": "stdout",
     "output_type": "stream",
     "text": [
      "3287 1F3FB                                                  ; component           # 🏻 E1.0 light skin tone\n",
      "3288 1F3FC                                                  ; component           # 🏼 E1.0 medium-light skin tone\n",
      "3289 1F3FD                                                  ; component           # 🏽 E1.0 medium skin tone\n",
      "3290 1F3FE                                                  ; component           # 🏾 E1.0 medium-dark skin tone\n",
      "3291 1F3FF                                                  ; component           # 🏿 E1.0 dark skin tone\n",
      "3294 1F9B0                                                  ; component           # 🦰 E11.0 red hair\n",
      "3295 1F9B1                                                  ; component           # 🦱 E11.0 curly hair\n",
      "3296 1F9B3                                                  ; component           # 🦳 E11.0 white hair\n",
      "3297 1F9B2                                                  ; component           # 🦲 E11.0 bald\n"
     ]
    }
   ],
   "source": [
    "for i, line in enumerate(emoji_raw.splitlines()):\n",
    "    if '; component' in line:\n",
    "        print(i, line)"
   ]
  },
  {
   "cell_type": "markdown",
   "id": "6c5e6edb",
   "metadata": {
    "papermill": {
     "duration": 0.019247,
     "end_time": "2023-08-07T22:49:19.584637",
     "exception": false,
     "start_time": "2023-08-07T22:49:19.565390",
     "status": "completed"
    },
    "tags": []
   },
   "source": [
    "Now we create the data structure that will hold our emoji entries. We will use the `namedtuple` because it has a nice representation, telling us exactly what each element means, as well as giving us the ability to extract those elements by name, using dot notation `entry.name` or `entry.group` for example. "
   ]
  },
  {
   "cell_type": "code",
   "execution_count": 14,
   "id": "59f13a9e",
   "metadata": {
    "execution": {
     "iopub.execute_input": "2023-08-07T22:49:19.627294Z",
     "iopub.status.busy": "2023-08-07T22:49:19.626547Z",
     "iopub.status.idle": "2023-08-07T22:49:19.632681Z",
     "shell.execute_reply": "2023-08-07T22:49:19.631455Z"
    },
    "papermill": {
     "duration": 0.030749,
     "end_time": "2023-08-07T22:49:19.635080",
     "exception": false,
     "start_time": "2023-08-07T22:49:19.604331",
     "status": "completed"
    },
    "tags": []
   },
   "outputs": [],
   "source": [
    "EmojiEntry = namedtuple('EmojiEntry', ['codepoint', 'status', 'emoji', 'name', 'group', 'sub_group'])"
   ]
  },
  {
   "cell_type": "markdown",
   "id": "7f598d11",
   "metadata": {
    "papermill": {
     "duration": 0.019378,
     "end_time": "2023-08-07T22:49:19.673911",
     "exception": false,
     "start_time": "2023-08-07T22:49:19.654533",
     "status": "completed"
    },
    "tags": []
   },
   "source": [
    "The following code goes through lines one by one, extracting the information that is needed, and appending each entry to `emoji_entries` which will be a list containing all of them.  \n",
    "I have annotated the code with some comments, and below elaborated a little more to clarify."
   ]
  },
  {
   "cell_type": "code",
   "execution_count": 15,
   "id": "04f848d8",
   "metadata": {
    "execution": {
     "iopub.execute_input": "2023-08-07T22:49:19.717669Z",
     "iopub.status.busy": "2023-08-07T22:49:19.717194Z",
     "iopub.status.idle": "2023-08-07T22:49:19.789421Z",
     "shell.execute_reply": "2023-08-07T22:49:19.787728Z"
    },
    "papermill": {
     "duration": 0.098413,
     "end_time": "2023-08-07T22:49:19.792757",
     "exception": false,
     "start_time": "2023-08-07T22:49:19.694344",
     "status": "completed"
    },
    "tags": []
   },
   "outputs": [],
   "source": [
    "E_regex = re.compile(r' ?E\\d+\\.\\d+ ') # remove the pattern E<digit(s)>.<digit(s)>\n",
    "emoji_entries = []\n",
    "\n",
    "for line in emoji_raw.splitlines()[32:]:  # skip the explanation lines\n",
    "    if line == '# Status Counts':  # the last line in the document\n",
    "        break\n",
    "    if 'subtotal:' in line:  # these are lines showing statistics about each group, not needed\n",
    "        continue\n",
    "    if not line:  # if it's a blank line\n",
    "        continue\n",
    "    if line.startswith('#'):  # these lines contain group and/or sub-group names\n",
    "        if '# group:' in line:\n",
    "            group = line.split(':')[-1].strip()\n",
    "        if '# subgroup:' in line:\n",
    "            subgroup = line.split(':')[-1].strip()\n",
    "    if group == 'Component':  # skin tones, and hair types, skip, as mentioned above\n",
    "        continue\n",
    "    if re.search('^[0-9A-F]{3,}', line):  # if the line starts with a hexadecimal number (an emoji code point)\n",
    "        # here we define all the elements that will go into emoji entries\n",
    "        codepoint = line.split(';')[0].strip()  # in some cases it is one and in others multiple code points\n",
    "        status = line.split(';')[-1].split()[0].strip() # status: fully-qualified, minimally-qualified, unqualified\n",
    "        if line[-1] == '#':\n",
    "            # The special case where the emoji is actually the hash sign \"#\". In this case manually assign the emoji\n",
    "            if 'fully-qualified' in line:\n",
    "                emoji = '#️⃣'\n",
    "            else:\n",
    "                emoji = '#⃣'  # they look the same, but are actually different \n",
    "        else:  # the default case\n",
    "            emoji = line.split('#')[-1].split()[0].strip()  # the emoji character itself\n",
    "        if line[-1] == '#':  # (the special case)\n",
    "            name = '#'\n",
    "        else:  # extract the emoji name\n",
    "            split_hash = line.split('#')[1]\n",
    "            rm_capital_E = E_regex.split(split_hash)[1]\n",
    "            name = rm_capital_E\n",
    "        templine = EmojiEntry(codepoint=codepoint,\n",
    "                              status=status,\n",
    "                              emoji=emoji,\n",
    "                              name=name,\n",
    "                              group=group,\n",
    "                              sub_group=subgroup)\n",
    "        emoji_entries.append(templine)\n"
   ]
  },
  {
   "cell_type": "code",
   "execution_count": 16,
   "id": "8472a588",
   "metadata": {
    "execution": {
     "iopub.execute_input": "2023-08-07T22:49:19.835255Z",
     "iopub.status.busy": "2023-08-07T22:49:19.834755Z",
     "iopub.status.idle": "2023-08-07T22:49:19.841821Z",
     "shell.execute_reply": "2023-08-07T22:49:19.840600Z"
    },
    "papermill": {
     "duration": 0.0312,
     "end_time": "2023-08-07T22:49:19.844251",
     "exception": false,
     "start_time": "2023-08-07T22:49:19.813051",
     "status": "completed"
    },
    "tags": []
   },
   "outputs": [],
   "source": [
    "emoji_dict = {x.emoji: x for x in emoji_entries}"
   ]
  },
  {
   "cell_type": "code",
   "execution_count": 17,
   "id": "3dba79f6",
   "metadata": {
    "execution": {
     "iopub.execute_input": "2023-08-07T22:49:19.885814Z",
     "iopub.status.busy": "2023-08-07T22:49:19.885415Z",
     "iopub.status.idle": "2023-08-07T22:49:19.892425Z",
     "shell.execute_reply": "2023-08-07T22:49:19.891520Z"
    },
    "papermill": {
     "duration": 0.030443,
     "end_time": "2023-08-07T22:49:19.894753",
     "exception": false,
     "start_time": "2023-08-07T22:49:19.864310",
     "status": "completed"
    },
    "tags": []
   },
   "outputs": [
    {
     "data": {
      "text/plain": [
       "'😆'"
      ]
     },
     "execution_count": 17,
     "metadata": {},
     "output_type": "execute_result"
    }
   ],
   "source": [
    "emoji_dict['😆'].emoji"
   ]
  },
  {
   "cell_type": "code",
   "execution_count": 18,
   "id": "83c071ee",
   "metadata": {
    "execution": {
     "iopub.execute_input": "2023-08-07T22:49:19.937499Z",
     "iopub.status.busy": "2023-08-07T22:49:19.935829Z",
     "iopub.status.idle": "2023-08-07T22:49:19.944635Z",
     "shell.execute_reply": "2023-08-07T22:49:19.943444Z"
    },
    "papermill": {
     "duration": 0.032454,
     "end_time": "2023-08-07T22:49:19.947139",
     "exception": false,
     "start_time": "2023-08-07T22:49:19.914685",
     "status": "completed"
    },
    "tags": []
   },
   "outputs": [
    {
     "data": {
      "text/plain": [
       "EmojiEntry(codepoint='1F600', status='fully-qualified', emoji='😀', name='grinning face', group='Smileys & Emotion', sub_group='face-smiling')"
      ]
     },
     "execution_count": 18,
     "metadata": {},
     "output_type": "execute_result"
    }
   ],
   "source": [
    "emoji_entries[0]"
   ]
  },
  {
   "cell_type": "code",
   "execution_count": 19,
   "id": "cde97216",
   "metadata": {
    "execution": {
     "iopub.execute_input": "2023-08-07T22:49:19.988218Z",
     "iopub.status.busy": "2023-08-07T22:49:19.987751Z",
     "iopub.status.idle": "2023-08-07T22:49:19.996481Z",
     "shell.execute_reply": "2023-08-07T22:49:19.995075Z"
    },
    "papermill": {
     "duration": 0.032426,
     "end_time": "2023-08-07T22:49:19.999097",
     "exception": false,
     "start_time": "2023-08-07T22:49:19.966671",
     "status": "completed"
    },
    "tags": []
   },
   "outputs": [
    {
     "data": {
      "text/plain": [
       "'😀'"
      ]
     },
     "execution_count": 19,
     "metadata": {},
     "output_type": "execute_result"
    }
   ],
   "source": [
    "emoji_entries[0].emoji"
   ]
  },
  {
   "cell_type": "code",
   "execution_count": 20,
   "id": "4571ec76",
   "metadata": {
    "execution": {
     "iopub.execute_input": "2023-08-07T22:49:20.041381Z",
     "iopub.status.busy": "2023-08-07T22:49:20.040835Z",
     "iopub.status.idle": "2023-08-07T22:49:20.049959Z",
     "shell.execute_reply": "2023-08-07T22:49:20.048560Z"
    },
    "papermill": {
     "duration": 0.033241,
     "end_time": "2023-08-07T22:49:20.052671",
     "exception": false,
     "start_time": "2023-08-07T22:49:20.019430",
     "status": "completed"
    },
    "tags": []
   },
   "outputs": [
    {
     "data": {
      "text/plain": [
       "('Smileys & Emotion', 'face-smiling')"
      ]
     },
     "execution_count": 20,
     "metadata": {},
     "output_type": "execute_result"
    }
   ],
   "source": [
    "emoji_entries[0].group, emoji_entries[0].sub_group"
   ]
  },
  {
   "cell_type": "markdown",
   "id": "30246bc9",
   "metadata": {
    "papermill": {
     "duration": 0.02035,
     "end_time": "2023-08-07T22:49:20.093119",
     "exception": false,
     "start_time": "2023-08-07T22:49:20.072769",
     "status": "completed"
    },
    "tags": []
   },
   "source": [
    "Here is a quick summary of the counts of the groups, sub-groups, and all group/sub-group combinations:"
   ]
  },
  {
   "cell_type": "code",
   "execution_count": 21,
   "id": "f359906d",
   "metadata": {
    "execution": {
     "iopub.execute_input": "2023-08-07T22:49:20.135832Z",
     "iopub.status.busy": "2023-08-07T22:49:20.134809Z",
     "iopub.status.idle": "2023-08-07T22:49:20.145285Z",
     "shell.execute_reply": "2023-08-07T22:49:20.143846Z"
    },
    "papermill": {
     "duration": 0.034717,
     "end_time": "2023-08-07T22:49:20.148046",
     "exception": false,
     "start_time": "2023-08-07T22:49:20.113329",
     "status": "completed"
    },
    "tags": []
   },
   "outputs": [
    {
     "data": {
      "text/plain": [
       "Counter({'People & Body': 2998,\n",
       "         'Objects': 310,\n",
       "         'Symbols': 304,\n",
       "         'Flags': 275,\n",
       "         'Travel & Places': 267,\n",
       "         'Smileys & Emotion': 180,\n",
       "         'Animals & Nature': 159,\n",
       "         'Food & Drink': 135,\n",
       "         'Activities': 96})"
      ]
     },
     "execution_count": 21,
     "metadata": {},
     "output_type": "execute_result"
    }
   ],
   "source": [
    "Counter([x.group for x in emoji_entries])"
   ]
  },
  {
   "cell_type": "code",
   "execution_count": 22,
   "id": "3afc026b",
   "metadata": {
    "execution": {
     "iopub.execute_input": "2023-08-07T22:49:20.191596Z",
     "iopub.status.busy": "2023-08-07T22:49:20.190397Z",
     "iopub.status.idle": "2023-08-07T22:49:20.202052Z",
     "shell.execute_reply": "2023-08-07T22:49:20.200431Z"
    },
    "papermill": {
     "duration": 0.036445,
     "end_time": "2023-08-07T22:49:20.205115",
     "exception": false,
     "start_time": "2023-08-07T22:49:20.168670",
     "status": "completed"
    },
    "tags": []
   },
   "outputs": [
    {
     "data": {
      "text/plain": [
       "[('person-role', 635),\n",
       " ('family', 534),\n",
       " ('person-sport', 395),\n",
       " ('person-activity', 318),\n",
       " ('person-gesture', 300),\n",
       " ('country-flag', 258),\n",
       " ('person-fantasy', 245),\n",
       " ('person', 192),\n",
       " ('animal-mammal', 68),\n",
       " ('hand-fingers-open', 67),\n",
       " ('sky & weather', 65),\n",
       " ('hands', 62),\n",
       " ('hand-fingers-partial', 55),\n",
       " ('transport-ground', 55),\n",
       " ('clothing', 50),\n",
       " ('body-parts', 49),\n",
       " ('alphanum', 49),\n",
       " ('hand-single-finger', 43),\n",
       " ('person-resting', 42),\n",
       " ('geometric', 38),\n",
       " ('hand-fingers-closed', 36),\n",
       " ('tool', 35),\n",
       " ('arrow', 35),\n",
       " ('food-prepared', 34),\n",
       " ('time', 34),\n",
       " ('av-symbol', 34),\n",
       " ('other-symbol', 33),\n",
       " ('place-building', 32),\n",
       " ('office', 31),\n",
       " ('game', 30)]"
      ]
     },
     "execution_count": 22,
     "metadata": {},
     "output_type": "execute_result"
    }
   ],
   "source": [
    "sorted(Counter([x.sub_group for x in emoji_entries]).items(), key=lambda x: x[1], reverse=True)[:30]"
   ]
  },
  {
   "cell_type": "code",
   "execution_count": 23,
   "id": "318e5fe6",
   "metadata": {
    "execution": {
     "iopub.execute_input": "2023-08-07T22:49:20.249541Z",
     "iopub.status.busy": "2023-08-07T22:49:20.248841Z",
     "iopub.status.idle": "2023-08-07T22:49:20.264008Z",
     "shell.execute_reply": "2023-08-07T22:49:20.263161Z"
    },
    "papermill": {
     "duration": 0.040386,
     "end_time": "2023-08-07T22:49:20.266344",
     "exception": false,
     "start_time": "2023-08-07T22:49:20.225958",
     "status": "completed"
    },
    "tags": []
   },
   "outputs": [
    {
     "data": {
      "text/plain": [
       "Counter({'People & Body | person-role': 635,\n",
       "         'People & Body | family': 534,\n",
       "         'People & Body | person-sport': 395,\n",
       "         'People & Body | person-activity': 318,\n",
       "         'People & Body | person-gesture': 300,\n",
       "         'Flags | country-flag': 258,\n",
       "         'People & Body | person-fantasy': 245,\n",
       "         'People & Body | person': 192,\n",
       "         'Animals & Nature | animal-mammal': 68,\n",
       "         'People & Body | hand-fingers-open': 67,\n",
       "         'Travel & Places | sky & weather': 65,\n",
       "         'People & Body | hands': 62,\n",
       "         'People & Body | hand-fingers-partial': 55,\n",
       "         'Travel & Places | transport-ground': 55,\n",
       "         'Objects | clothing': 50,\n",
       "         'People & Body | body-parts': 49,\n",
       "         'Symbols | alphanum': 49,\n",
       "         'People & Body | hand-single-finger': 43,\n",
       "         'People & Body | person-resting': 42,\n",
       "         'Symbols | geometric': 38,\n",
       "         'People & Body | hand-fingers-closed': 36,\n",
       "         'Objects | tool': 35,\n",
       "         'Symbols | arrow': 35,\n",
       "         'Food & Drink | food-prepared': 34,\n",
       "         'Travel & Places | time': 34,\n",
       "         'Symbols | av-symbol': 34,\n",
       "         'Symbols | other-symbol': 33,\n",
       "         'Travel & Places | place-building': 32,\n",
       "         'Objects | office': 31,\n",
       "         'Activities | game': 30,\n",
       "         'Smileys & Emotion | heart': 29,\n",
       "         'Activities | sport': 28,\n",
       "         'Smileys & Emotion | face-concerned': 27,\n",
       "         'Objects | household': 27,\n",
       "         'Symbols | keycap': 25,\n",
       "         'Activities | event': 23,\n",
       "         'Animals & Nature | animal-bird': 22,\n",
       "         'Symbols | religion': 22,\n",
       "         'Smileys & Emotion | emotion': 20,\n",
       "         'Food & Drink | drink': 20,\n",
       "         'People & Body | hand-prop': 19,\n",
       "         'Food & Drink | food-fruit': 19,\n",
       "         'Travel & Places | place-other': 19,\n",
       "         'Objects | computer': 19,\n",
       "         'Objects | light & video': 19,\n",
       "         'Objects | book-paper': 19,\n",
       "         'Animals & Nature | animal-bug': 18,\n",
       "         'Food & Drink | food-vegetable': 18,\n",
       "         'Animals & Nature | plant-other': 17,\n",
       "         'Food & Drink | food-asian': 17,\n",
       "         'Travel & Places | place-geographic': 16,\n",
       "         'Travel & Places | transport-air': 16,\n",
       "         'Symbols | warning': 16,\n",
       "         'Smileys & Emotion | face-neutral-skeptical': 15,\n",
       "         'Objects | mail': 15,\n",
       "         'Smileys & Emotion | face-smiling': 14,\n",
       "         'Food & Drink | food-sweet': 14,\n",
       "         'Flags | flag': 14,\n",
       "         'Animals & Nature | plant-flower': 13,\n",
       "         'Objects | writing': 13,\n",
       "         'Symbols | transport-sign': 13,\n",
       "         'Symbols | zodiac': 13,\n",
       "         'Smileys & Emotion | face-unwell': 12,\n",
       "         'Animals & Nature | animal-marine': 12,\n",
       "         'Travel & Places | transport-water': 12,\n",
       "         'Objects | music': 12,\n",
       "         'Objects | musical-instrument': 11,\n",
       "         'Objects | other-object': 11,\n",
       "         'Smileys & Emotion | face-affection': 10,\n",
       "         'Objects | money': 10,\n",
       "         'Symbols | punctuation': 10,\n",
       "         'Smileys & Emotion | face-negative': 9,\n",
       "         'Smileys & Emotion | cat-face': 9,\n",
       "         'Objects | sound': 9,\n",
       "         'Smileys & Emotion | face-costume': 8,\n",
       "         'Animals & Nature | animal-reptile': 8,\n",
       "         'Food & Drink | dishware': 8,\n",
       "         'Travel & Places | place-map': 8,\n",
       "         'Activities | arts & crafts': 8,\n",
       "         'Objects | science': 8,\n",
       "         'Symbols | math': 8,\n",
       "         'Smileys & Emotion | face-hand': 7,\n",
       "         'Travel & Places | place-religious': 7,\n",
       "         'Activities | award-medal': 7,\n",
       "         'Objects | phone': 7,\n",
       "         'Objects | lock': 7,\n",
       "         'Objects | medical': 7,\n",
       "         'Smileys & Emotion | face-tongue': 6,\n",
       "         'People & Body | person-symbol': 6,\n",
       "         'Symbols | gender': 6,\n",
       "         'Smileys & Emotion | face-sleepy': 5,\n",
       "         'Food & Drink | food-marine': 5,\n",
       "         'Smileys & Emotion | face-hat': 3,\n",
       "         'Smileys & Emotion | face-glasses': 3,\n",
       "         'Smileys & Emotion | monkey-face': 3,\n",
       "         'Travel & Places | hotel': 3,\n",
       "         'Flags | subdivision-flag': 3,\n",
       "         'Symbols | currency': 2,\n",
       "         'Animals & Nature | animal-amphibian': 1})"
      ]
     },
     "execution_count": 23,
     "metadata": {},
     "output_type": "execute_result"
    }
   ],
   "source": [
    "Counter([' | '.join([x.group, x.sub_group]) for x in emoji_entries])"
   ]
  },
  {
   "cell_type": "markdown",
   "id": "3fb4a95b",
   "metadata": {
    "papermill": {
     "duration": 0.020416,
     "end_time": "2023-08-07T22:49:20.307638",
     "exception": false,
     "start_time": "2023-08-07T22:49:20.287222",
     "status": "completed"
    },
    "tags": []
   },
   "source": [
    "## Emoji status\n",
    "In case you are wondering about the status column, this is the explanation from the\n",
    "[Unicode official documentation:](http://unicode.org/reports/tr51/#def_qualified_emoji_character) \n",
    "\n",
    ">ED-17a. qualified emoji character — An emoji character in a string that (a) has default emoji presentation or (b) is the first character in an emoji modifier sequence or (c) is not a default emoji presentation character, but is the first character in an emoji presentation sequence.  \n",
    ">ED-18. fully-qualified emoji — A qualified emoji character, or an emoji sequence in which each emoji character is qualified.  \n",
    ">ED-18a. minimally-qualified emoji — An emoji sequence in which the first character is qualified but the sequence is not fully qualified.  \n",
    ">ED-19. unqualified emoji — An emoji that is neither fully-qualified nor minimally qualified."
   ]
  },
  {
   "cell_type": "markdown",
   "id": "f425aaaf",
   "metadata": {
    "papermill": {
     "duration": 0.020643,
     "end_time": "2023-08-07T22:49:20.349099",
     "exception": false,
     "start_time": "2023-08-07T22:49:20.328456",
     "status": "completed"
    },
    "tags": []
   },
   "source": [
    "As mentioned above, we need to handle single and multiple code point emoji slightly differently.  \n",
    "We start by extracting the multi code points."
   ]
  },
  {
   "cell_type": "code",
   "execution_count": 24,
   "id": "2874d780",
   "metadata": {
    "execution": {
     "iopub.execute_input": "2023-08-07T22:49:20.394135Z",
     "iopub.status.busy": "2023-08-07T22:49:20.393685Z",
     "iopub.status.idle": "2023-08-07T22:49:20.418245Z",
     "shell.execute_reply": "2023-08-07T22:49:20.416791Z"
    },
    "papermill": {
     "duration": 0.050551,
     "end_time": "2023-08-07T22:49:20.421028",
     "exception": false,
     "start_time": "2023-08-07T22:49:20.370477",
     "status": "completed"
    },
    "tags": []
   },
   "outputs": [
    {
     "data": {
      "text/plain": [
       "'\\\\U0001F9D1\\\\U0001F3FB\\\\U0000200D\\\\U00002764\\\\U0000FE0F\\\\U0000200D\\\\U0001F48B\\\\U0000200D\\\\U0001F9D1\\\\U0001F3FC|\\\\U0001F9D1\\\\U0001F3FB\\\\U0000200D\\\\U00002764\\\\U0000FE0F\\\\U0000200D\\\\U0001F48B\\\\U0000200D\\\\U0001F9D1\\\\U0001F3FD|\\\\U0001F9D1\\\\U0001F3FB\\\\U0000200D\\\\U00002764\\\\U0000FE0F\\\\U0000200D\\\\U0001F48B\\\\U0000200D\\\\U0001F9D1\\\\U0001F3FE|\\\\U0001F9D1\\\\U0001F3FB\\\\U0000200D\\\\U00002764\\\\U0000FE0F\\\\U0000200D\\\\U0001F48B\\\\U0000200D\\\\U0001F9D1\\\\U0001F'"
      ]
     },
     "execution_count": 24,
     "metadata": {},
     "output_type": "execute_result"
    }
   ],
   "source": [
    "multi_codepoint_emoji = []\n",
    "\n",
    "for code in [c.codepoint.split() for c in emoji_entries]:\n",
    "    if len(code) > 1:\n",
    "        # turn to a hexadecimal number zfilled to 8 zeros e.g: '\\U0001F44D'\n",
    "        hexified_codes = [r'\\U' + x.zfill(8) for x in code]  \n",
    "        hexified_codes = ''.join(hexified_codes)  # join all hexadecimal components \n",
    "        multi_codepoint_emoji.append(hexified_codes)\n",
    "\n",
    "# sorting by length in decreasing order is extremely important as demonstrated above\n",
    "multi_codepoint_emoji_sorted = sorted(multi_codepoint_emoji, key=len, reverse=True)\n",
    "\n",
    "# join with a \"|\" to function as an \"or\" in the regex\n",
    "multi_codepoint_emoji_joined = '|'.join(multi_codepoint_emoji_sorted)  \n",
    "multi_codepoint_emoji_joined[:400]  # sample"
   ]
  },
  {
   "cell_type": "code",
   "execution_count": 25,
   "id": "be8a3763",
   "metadata": {
    "execution": {
     "iopub.execute_input": "2023-08-07T22:49:20.466206Z",
     "iopub.status.busy": "2023-08-07T22:49:20.464650Z",
     "iopub.status.idle": "2023-08-07T22:49:20.476312Z",
     "shell.execute_reply": "2023-08-07T22:49:20.475207Z"
    },
    "papermill": {
     "duration": 0.036993,
     "end_time": "2023-08-07T22:49:20.479102",
     "exception": false,
     "start_time": "2023-08-07T22:49:20.442109",
     "status": "completed"
    },
    "tags": []
   },
   "outputs": [],
   "source": [
    "single_codepoint_emoji = []\n",
    "\n",
    "for code in [c.codepoint.split() for c in emoji_entries]:\n",
    "    if len(code) == 1:\n",
    "        single_codepoint_emoji.append(code[0])"
   ]
  },
  {
   "cell_type": "markdown",
   "id": "5e94e5a0",
   "metadata": {
    "papermill": {
     "duration": 0.021135,
     "end_time": "2023-08-07T22:49:20.521312",
     "exception": false,
     "start_time": "2023-08-07T22:49:20.500177",
     "status": "completed"
    },
    "tags": []
   },
   "source": [
    "# Regex character ranges\n",
    "\n",
    "Since the single code point emoji are basically one character each, they can be treated as normal letters or numbers in the regex.  \n",
    "One important feature of character classes is their ability to contain character ranges. \n",
    "If I want to match a character that falls between A and F, there are two ways to define the character class: \n",
    "\n",
    "- `[ABCDEF]`\n",
    "- `[A-F]`\n",
    "\n",
    "They effectively mean the same thing. The advantage of the second is that it is much more readable (imagine wanting to match the letters from A to T for example). It would be very difficult to read through and understand which letters are included. `[A-T]` is very easy to read.  \n",
    "I also believe there might be a slight performance boost with character ranges. Some regex engines do certain optimizations on their own, and I'm not aware of those details. But in general making two comparisons is way more efficient than making fifty.  \n",
    "For example, you have the number 42, and want to check if it falls between 1 and 100. \n",
    "In the character class case, you make to comparisons. You check if 42 >= 1 and 42 <=100.  \n",
    "If you have all the numbers listed from 1 to 100, then you will have to make 42 comparisons to find out. On average, if you have a range of 100 numbers, you will be making fifty comparisons to find out. With larger ranges, this can obviously go very big.  \n",
    "\n",
    "Below is the function `get_ranges`. It takes a list of integers, and returns a list of tuples, each representing the local minimum and maximum for any number of contiguous integers (numbers differing by 1).  \n",
    "For example if I have the list `[1, 2, 3, 4, 6 7, 8, 10, 20]`, it will return `[(1, 4), (6, 8), (10, 10), (20, 20)]`\n",
    "\n",
    "The numbers 1, 2, 3, and 4, can converted into a character range `[1-4]`, so do the numbers 6, 7, and 8. 10 and 20 are not part of a series of integers differing by one, so they are represented as single-number ranges. Later they will be used as single characters in the regex."
   ]
  },
  {
   "cell_type": "code",
   "execution_count": 26,
   "id": "af75ecb8",
   "metadata": {
    "execution": {
     "iopub.execute_input": "2023-08-07T22:49:20.566419Z",
     "iopub.status.busy": "2023-08-07T22:49:20.565062Z",
     "iopub.status.idle": "2023-08-07T22:49:20.576047Z",
     "shell.execute_reply": "2023-08-07T22:49:20.574451Z"
    },
    "papermill": {
     "duration": 0.036626,
     "end_time": "2023-08-07T22:49:20.579214",
     "exception": false,
     "start_time": "2023-08-07T22:49:20.542588",
     "status": "completed"
    },
    "tags": []
   },
   "outputs": [],
   "source": [
    "def get_ranges(nums):\n",
    "    \"\"\"Reduce a list of integers to tuples of local maximums and minimums.\n",
    "\n",
    "    :param nums: List of integers.\n",
    "    :return ranges: List of tuples showing local minimums and maximums\n",
    "    \"\"\"\n",
    "    nums = sorted(nums)\n",
    "    lows = [nums[0]]\n",
    "    highs = []\n",
    "    if nums[1] - nums[0] > 1:\n",
    "        highs.append(nums[0])\n",
    "    for i in range(1, len(nums)-1):\n",
    "        if (nums[i] - nums[i-1]) > 1:\n",
    "            lows.append(nums[i])\n",
    "        if (nums[i + 1] - nums[i]) > 1:\n",
    "            highs.append(nums[i])\n",
    "    highs.append(nums[-1])\n",
    "    if len(highs) > len(lows):\n",
    "        lows.append(highs[-1])\n",
    "    return [(l, h) for l, h in zip(lows, highs)]"
   ]
  },
  {
   "cell_type": "code",
   "execution_count": 27,
   "id": "414d3414",
   "metadata": {
    "execution": {
     "iopub.execute_input": "2023-08-07T22:49:20.623322Z",
     "iopub.status.busy": "2023-08-07T22:49:20.622825Z",
     "iopub.status.idle": "2023-08-07T22:49:20.636411Z",
     "shell.execute_reply": "2023-08-07T22:49:20.635071Z"
    },
    "papermill": {
     "duration": 0.038829,
     "end_time": "2023-08-07T22:49:20.639035",
     "exception": false,
     "start_time": "2023-08-07T22:49:20.600206",
     "status": "completed"
    },
    "tags": []
   },
   "outputs": [
    {
     "data": {
      "text/plain": [
       "[(169, 169),\n",
       " (174, 174),\n",
       " (8252, 8252),\n",
       " (8265, 8265),\n",
       " (8482, 8482),\n",
       " (8505, 8505),\n",
       " (8596, 8601),\n",
       " (8617, 8618),\n",
       " (8986, 8987),\n",
       " (9000, 9000)]"
      ]
     },
     "execution_count": 27,
     "metadata": {},
     "output_type": "execute_result"
    }
   ],
   "source": [
    "# We first convert single_codepoint_emoji to integers to make calculations easier\n",
    "single_codepoint_emoji_int = [int(x, base=16) for x in single_codepoint_emoji]\n",
    "single_codepoint_emoji_ranges = get_ranges(single_codepoint_emoji_int)\n",
    "single_codepoint_emoji_ranges[:10]"
   ]
  },
  {
   "cell_type": "code",
   "execution_count": 28,
   "id": "8279c6ce",
   "metadata": {
    "execution": {
     "iopub.execute_input": "2023-08-07T22:49:20.685745Z",
     "iopub.status.busy": "2023-08-07T22:49:20.684418Z",
     "iopub.status.idle": "2023-08-07T22:49:20.696420Z",
     "shell.execute_reply": "2023-08-07T22:49:20.695224Z"
    },
    "papermill": {
     "duration": 0.03904,
     "end_time": "2023-08-07T22:49:20.699400",
     "exception": false,
     "start_time": "2023-08-07T22:49:20.660360",
     "status": "completed"
    },
    "tags": []
   },
   "outputs": [
    {
     "data": {
      "text/plain": [
       "'\\\\U000000a9\\\\U000000ae\\\\U0000203c\\\\U00002049\\\\U00002122\\\\U00002139\\\\U00002194-\\\\U00002199\\\\U000021a9-\\\\U000021'"
      ]
     },
     "execution_count": 28,
     "metadata": {},
     "output_type": "execute_result"
    }
   ],
   "source": [
    "single_codepoint_emoji_raw = r''  # start with an empty raw string\n",
    "for code in single_codepoint_emoji_ranges:\n",
    "    if code[0] == code[1]:  # in this case make it a single hexadecimal character\n",
    "        temp_regex =  r'\\U' + hex(code[0])[2:].zfill(8)\n",
    "        single_codepoint_emoji_raw += temp_regex\n",
    "    else:\n",
    "        # otherwise create a character range, joined by '-'\n",
    "        temp_regex = '-'.join([r'\\U' + hex(code[0])[2:].zfill(8), r'\\U' + hex(code[1])[2:].zfill(8)])\n",
    "        single_codepoint_emoji_raw += temp_regex\n",
    "\n",
    "single_codepoint_emoji_raw[:100]  # sample"
   ]
  },
  {
   "cell_type": "markdown",
   "id": "961b9575",
   "metadata": {
    "papermill": {
     "duration": 0.020531,
     "end_time": "2023-08-07T22:49:20.741072",
     "exception": false,
     "start_time": "2023-08-07T22:49:20.720541",
     "status": "completed"
    },
    "tags": []
   },
   "source": [
    "# Final regex\n",
    "Now that we have created our sorted multi-code point characters, and generated the ranges for the single-code point emoji, we need to combine them together.  \n",
    "The regex wil start with the longer 'words', which are emoji, represented by more than one character. These have already been sorted by length, in descending order. \n",
    "Single-code point emoji have already been made into a character class, where some values are single characters, and some are character ranges. \n",
    "\n",
    "The final regex will look something like this: \n",
    "\n",
    "`multi_code_point_emoji|[character_class_of_single_code_points]`\n",
    "\n",
    "In more detail, this is how the first `multi_code_point_emoji` part will look like:\n",
    "\n",
    "`longest_multi_code_point|shorter_multiple_code_point|...|shortest_multiple_code_point`\n",
    "\n",
    "This is how the character class part `[character_class_of_single_code_points]` will look like: \n",
    "For simplicity I refer to `single_code_point` as `sp`. \n",
    "\n",
    "`[sp1sp2sp3sp4-sp20sp25sp500-sp600]` and so on. \n",
    "\n",
    "Below we concatenate both regexes into one, and show the first and last 500 characters as a sample. "
   ]
  },
  {
   "cell_type": "code",
   "execution_count": 29,
   "id": "08e84bdd",
   "metadata": {
    "execution": {
     "iopub.execute_input": "2023-08-07T22:49:20.785191Z",
     "iopub.status.busy": "2023-08-07T22:49:20.784425Z",
     "iopub.status.idle": "2023-08-07T22:49:21.226715Z",
     "shell.execute_reply": "2023-08-07T22:49:21.225417Z"
    },
    "papermill": {
     "duration": 0.46798,
     "end_time": "2023-08-07T22:49:21.229744",
     "exception": false,
     "start_time": "2023-08-07T22:49:20.761764",
     "status": "completed"
    },
    "tags": []
   },
   "outputs": [
    {
     "data": {
      "text/plain": [
       "('\\\\U0001F9D1\\\\U0001F3FB\\\\U0000200D\\\\U00002764\\\\U0000FE0F\\\\U0000200D\\\\U0001F48B\\\\U0000200D\\\\U0001F9D1\\\\U0001F3FC|\\\\U0001F9D1\\\\U0001F3FB\\\\U0000200D\\\\U00002764\\\\U0000FE0F\\\\U0000200D\\\\U0001F48B\\\\U0000200D\\\\U0001F9D1\\\\U0001F3FD|\\\\U0001F9D1\\\\U0001F3FB\\\\U0000200D\\\\U00002764\\\\U0000FE0F\\\\U0000200D\\\\U0001F48B\\\\U0000200D\\\\U0001F9D1\\\\U0001F3FE|\\\\U0001F9D1\\\\U0001F3FB\\\\U0000200D\\\\U00002764\\\\U0000FE0F\\\\U0000200D\\\\U0001F48B\\\\U0000200D\\\\U0001F9D1\\\\U0001F3FF|\\\\U0001F9D1\\\\U0001F3FC\\\\U0000200D\\\\U00002764\\\\U0000FE0F\\\\U0000200D\\\\U0001F48B\\\\U0000200D\\\\U0001F9D1\\\\U0001',\n",
       " 'U0001f5dc-\\\\U0001f5de\\\\U0001f5e1\\\\U0001f5e3\\\\U0001f5e8\\\\U0001f5ef\\\\U0001f5f3\\\\U0001f5fa-\\\\U0001f64f\\\\U0001f680-\\\\U0001f6c5\\\\U0001f6cb-\\\\U0001f6d2\\\\U0001f6d5-\\\\U0001f6d7\\\\U0001f6dc-\\\\U0001f6e5\\\\U0001f6e9\\\\U0001f6eb-\\\\U0001f6ec\\\\U0001f6f0\\\\U0001f6f3-\\\\U0001f6fc\\\\U0001f7e0-\\\\U0001f7eb\\\\U0001f7f0\\\\U0001f90c-\\\\U0001f93a\\\\U0001f93c-\\\\U0001f945\\\\U0001f947-\\\\U0001f9af\\\\U0001f9b4-\\\\U0001f9ff\\\\U0001fa70-\\\\U0001fa7c\\\\U0001fa80-\\\\U0001fa88\\\\U0001fa90-\\\\U0001fabd\\\\U0001fabf-\\\\U0001fac5\\\\U0001face-\\\\U0001fadb\\\\U0001fae0-\\\\U0001fae8\\\\U0001faf0-\\\\U0001faf8]')"
      ]
     },
     "execution_count": 29,
     "metadata": {},
     "output_type": "execute_result"
    }
   ],
   "source": [
    "all_emoji_regex = re.compile(multi_codepoint_emoji_joined + '|' +  r'[' + single_codepoint_emoji_raw + r']')\n",
    "all_emoji_regex.pattern[:500], all_emoji_regex.pattern[-500:]"
   ]
  },
  {
   "cell_type": "markdown",
   "id": "c8332c8c",
   "metadata": {
    "papermill": {
     "duration": 0.020794,
     "end_time": "2023-08-07T22:49:21.272237",
     "exception": false,
     "start_time": "2023-08-07T22:49:21.251443",
     "status": "completed"
    },
    "tags": []
   },
   "source": [
    "# Testing\n",
    "We need to know that our work is correct. It is easy to get it wrong, especially when we are talking about 3k+ characters, and especially that many of them are combinations of the others. \n",
    "\n",
    "As a quick sanity check, let see how many characters were actually in the initial text file. Each emoji entry contained a semicolon, so let's count those: "
   ]
  },
  {
   "cell_type": "markdown",
   "id": "edb32411",
   "metadata": {
    "papermill": {
     "duration": 0.020577,
     "end_time": "2023-08-07T22:49:21.313859",
     "exception": false,
     "start_time": "2023-08-07T22:49:21.293282",
     "status": "completed"
    },
    "tags": []
   },
   "source": [
    "![](https://drive.google.com/uc?id=1njXayyA6eOqFxeEamQwldH8z0MkFxR6h)  "
   ]
  },
  {
   "cell_type": "markdown",
   "id": "a721cd4d",
   "metadata": {
    "papermill": {
     "duration": 0.020804,
     "end_time": "2023-08-07T22:49:21.355528",
     "exception": false,
     "start_time": "2023-08-07T22:49:21.334724",
     "status": "completed"
    },
    "tags": []
   },
   "source": [
    "* There are 4,734 semicolons in the file. One of them is part of the explanation on the first line, and remember that there were nine characters that we omitted, because they were basically modifiers. So the final number should be 4,734 - 1 - 9 = 4,724. \n",
    "\n",
    "Now we run `findall` by the combined final regex on a string that we create.  \n",
    "This string is all the emoji characters in `emoji_entries` separated by spaces. Their number needs to be exactly 4,724. "
   ]
  },
  {
   "cell_type": "code",
   "execution_count": 30,
   "id": "e51f86f7",
   "metadata": {
    "execution": {
     "iopub.execute_input": "2023-08-07T22:49:21.400262Z",
     "iopub.status.busy": "2023-08-07T22:49:21.399452Z",
     "iopub.status.idle": "2023-08-07T22:49:21.524732Z",
     "shell.execute_reply": "2023-08-07T22:49:21.523258Z"
    },
    "papermill": {
     "duration": 0.151006,
     "end_time": "2023-08-07T22:49:21.527820",
     "exception": false,
     "start_time": "2023-08-07T22:49:21.376814",
     "status": "completed"
    },
    "tags": []
   },
   "outputs": [
    {
     "data": {
      "text/plain": [
       "4724"
      ]
     },
     "execution_count": 30,
     "metadata": {},
     "output_type": "execute_result"
    }
   ],
   "source": [
    "all_emoji_regex.findall(' '.join([x.emoji for x in emoji_entries])).__len__()"
   ]
  },
  {
   "cell_type": "markdown",
   "id": "1048c742",
   "metadata": {
    "papermill": {
     "duration": 0.021235,
     "end_time": "2023-08-07T22:49:21.571667",
     "exception": false,
     "start_time": "2023-08-07T22:49:21.550432",
     "status": "completed"
    },
    "tags": []
   },
   "source": [
    "So far so good. Let's get some more assurance.\n",
    "\n",
    "The code below goes through all the lines of the raw text file, as downloaded from the Unicode site.  \n",
    "First we define `count` as zero, and increment its value, every time we find a new match. This should add up to the same number 3,287.  \n",
    "We also create a set `found_emoji` where we add every emoji we find to it. If we match a certain emoji more than once and add it to the set, it will be discarded, because sets only contain unique values. Again the length of this set, should be equal to our magic number. If not, it means we found duplicates. Or it means we are matching other things, if we get a higher number. \n",
    "\n",
    "Lines 6-8 check if the length of the match is more than one, meaning the regex found more than one match in the line. We might be wrongly matching something more than once. It actually broke a few times, when I first ran it, until I fixed the issues.  \n",
    "One final test is asserting that the name of the emoji (which we extract from `emoji_entries` is contained in the line in the raw text file, making sure that the names also correspond to the correct value, and extracted correctly. "
   ]
  },
  {
   "cell_type": "code",
   "execution_count": 31,
   "id": "5a6d5fcf",
   "metadata": {
    "execution": {
     "iopub.execute_input": "2023-08-07T22:49:21.619383Z",
     "iopub.status.busy": "2023-08-07T22:49:21.618691Z",
     "iopub.status.idle": "2023-08-07T22:49:31.980627Z",
     "shell.execute_reply": "2023-08-07T22:49:31.979039Z"
    },
    "papermill": {
     "duration": 10.389493,
     "end_time": "2023-08-07T22:49:31.983743",
     "exception": false,
     "start_time": "2023-08-07T22:49:21.594250",
     "status": "completed"
    },
    "tags": []
   },
   "outputs": [
    {
     "data": {
      "text/plain": [
       "(4724, 4724)"
      ]
     },
     "execution_count": 31,
     "metadata": {},
     "output_type": "execute_result"
    }
   ],
   "source": [
    "count = 0\n",
    "found_emoji = set()\n",
    "for line in emoji_raw.splitlines()[30:]:\n",
    "    match = all_emoji_regex.findall(line)\n",
    "    if match:\n",
    "        if len(match) > 1:\n",
    "            break\n",
    "        count += 1\n",
    "        found_emoji.add(match[0])\n",
    "        temp_name = [x.name for x in emoji_entries if x.emoji == match[0]][0]\n",
    "        assert temp_name in line\n",
    "\n",
    "count, found_emoji.__len__()"
   ]
  },
  {
   "cell_type": "markdown",
   "id": "fa2d54c0",
   "metadata": {
    "papermill": {
     "duration": 0.021769,
     "end_time": "2023-08-07T22:49:32.027892",
     "exception": false,
     "start_time": "2023-08-07T22:49:32.006123",
     "status": "completed"
    },
    "tags": []
   },
   "source": [
    "## 🎉 🎉 🎉 🎊 🎊 🎊 👍 👏 😉\n",
    "\n",
    "To save as a DataFrame, we can run the following code.  \n",
    "I made it semicolon-separated, as there were commas in the descriptions so this is easier. The I let `pandas` do the heavy lifting of converting back to comma-separated format. "
   ]
  },
  {
   "cell_type": "code",
   "execution_count": 32,
   "id": "223a2b78",
   "metadata": {
    "execution": {
     "iopub.execute_input": "2023-08-07T22:49:32.074267Z",
     "iopub.status.busy": "2023-08-07T22:49:32.073305Z",
     "iopub.status.idle": "2023-08-07T22:49:32.091290Z",
     "shell.execute_reply": "2023-08-07T22:49:32.089853Z"
    },
    "papermill": {
     "duration": 0.044804,
     "end_time": "2023-08-07T22:49:32.094311",
     "exception": false,
     "start_time": "2023-08-07T22:49:32.049507",
     "status": "completed"
    },
    "tags": []
   },
   "outputs": [],
   "source": [
    "with open('emoji_df.csv', 'wt') as file:\n",
    "    print('emoji;name;group;sub_group;codepoints', file=file)\n",
    "    for i, em in enumerate(emoji_entries):\n",
    "        print(f\"{em.emoji};{em.name};{em.group};{em.sub_group};{em.codepoint}\", file=file)"
   ]
  },
  {
   "cell_type": "code",
   "execution_count": 33,
   "id": "b4b1bd74",
   "metadata": {
    "execution": {
     "iopub.execute_input": "2023-08-07T22:49:32.140663Z",
     "iopub.status.busy": "2023-08-07T22:49:32.140178Z",
     "iopub.status.idle": "2023-08-07T22:49:32.263194Z",
     "shell.execute_reply": "2023-08-07T22:49:32.261768Z"
    },
    "papermill": {
     "duration": 0.149694,
     "end_time": "2023-08-07T22:49:32.266085",
     "exception": false,
     "start_time": "2023-08-07T22:49:32.116391",
     "status": "completed"
    },
    "tags": []
   },
   "outputs": [
    {
     "data": {
      "text/html": [
       "<div>\n",
       "<style scoped>\n",
       "    .dataframe tbody tr th:only-of-type {\n",
       "        vertical-align: middle;\n",
       "    }\n",
       "\n",
       "    .dataframe tbody tr th {\n",
       "        vertical-align: top;\n",
       "    }\n",
       "\n",
       "    .dataframe thead th {\n",
       "        text-align: right;\n",
       "    }\n",
       "</style>\n",
       "<table border=\"1\" class=\"dataframe\">\n",
       "  <thead>\n",
       "    <tr style=\"text-align: right;\">\n",
       "      <th></th>\n",
       "      <th>emoji</th>\n",
       "      <th>name</th>\n",
       "      <th>group</th>\n",
       "      <th>sub_group</th>\n",
       "      <th>codepoints</th>\n",
       "    </tr>\n",
       "  </thead>\n",
       "  <tbody>\n",
       "    <tr>\n",
       "      <th>0</th>\n",
       "      <td>😀</td>\n",
       "      <td>grinning face</td>\n",
       "      <td>Smileys &amp; Emotion</td>\n",
       "      <td>face-smiling</td>\n",
       "      <td>1F600</td>\n",
       "    </tr>\n",
       "    <tr>\n",
       "      <th>1</th>\n",
       "      <td>😃</td>\n",
       "      <td>grinning face with big eyes</td>\n",
       "      <td>Smileys &amp; Emotion</td>\n",
       "      <td>face-smiling</td>\n",
       "      <td>1F603</td>\n",
       "    </tr>\n",
       "    <tr>\n",
       "      <th>2</th>\n",
       "      <td>😄</td>\n",
       "      <td>grinning face with smiling eyes</td>\n",
       "      <td>Smileys &amp; Emotion</td>\n",
       "      <td>face-smiling</td>\n",
       "      <td>1F604</td>\n",
       "    </tr>\n",
       "    <tr>\n",
       "      <th>3</th>\n",
       "      <td>😁</td>\n",
       "      <td>beaming face with smiling eyes</td>\n",
       "      <td>Smileys &amp; Emotion</td>\n",
       "      <td>face-smiling</td>\n",
       "      <td>1F601</td>\n",
       "    </tr>\n",
       "    <tr>\n",
       "      <th>4</th>\n",
       "      <td>😆</td>\n",
       "      <td>grinning squinting face</td>\n",
       "      <td>Smileys &amp; Emotion</td>\n",
       "      <td>face-smiling</td>\n",
       "      <td>1F606</td>\n",
       "    </tr>\n",
       "    <tr>\n",
       "      <th>5</th>\n",
       "      <td>😅</td>\n",
       "      <td>grinning face with sweat</td>\n",
       "      <td>Smileys &amp; Emotion</td>\n",
       "      <td>face-smiling</td>\n",
       "      <td>1F605</td>\n",
       "    </tr>\n",
       "    <tr>\n",
       "      <th>6</th>\n",
       "      <td>🤣</td>\n",
       "      <td>rolling on the floor laughing</td>\n",
       "      <td>Smileys &amp; Emotion</td>\n",
       "      <td>face-smiling</td>\n",
       "      <td>1F923</td>\n",
       "    </tr>\n",
       "    <tr>\n",
       "      <th>7</th>\n",
       "      <td>😂</td>\n",
       "      <td>face with tears of joy</td>\n",
       "      <td>Smileys &amp; Emotion</td>\n",
       "      <td>face-smiling</td>\n",
       "      <td>1F602</td>\n",
       "    </tr>\n",
       "    <tr>\n",
       "      <th>8</th>\n",
       "      <td>🙂</td>\n",
       "      <td>slightly smiling face</td>\n",
       "      <td>Smileys &amp; Emotion</td>\n",
       "      <td>face-smiling</td>\n",
       "      <td>1F642</td>\n",
       "    </tr>\n",
       "    <tr>\n",
       "      <th>9</th>\n",
       "      <td>🙃</td>\n",
       "      <td>upside-down face</td>\n",
       "      <td>Smileys &amp; Emotion</td>\n",
       "      <td>face-smiling</td>\n",
       "      <td>1F643</td>\n",
       "    </tr>\n",
       "    <tr>\n",
       "      <th>10</th>\n",
       "      <td>🫠</td>\n",
       "      <td>melting face</td>\n",
       "      <td>Smileys &amp; Emotion</td>\n",
       "      <td>face-smiling</td>\n",
       "      <td>1FAE0</td>\n",
       "    </tr>\n",
       "    <tr>\n",
       "      <th>11</th>\n",
       "      <td>😉</td>\n",
       "      <td>winking face</td>\n",
       "      <td>Smileys &amp; Emotion</td>\n",
       "      <td>face-smiling</td>\n",
       "      <td>1F609</td>\n",
       "    </tr>\n",
       "    <tr>\n",
       "      <th>12</th>\n",
       "      <td>😊</td>\n",
       "      <td>smiling face with smiling eyes</td>\n",
       "      <td>Smileys &amp; Emotion</td>\n",
       "      <td>face-smiling</td>\n",
       "      <td>1F60A</td>\n",
       "    </tr>\n",
       "    <tr>\n",
       "      <th>13</th>\n",
       "      <td>😇</td>\n",
       "      <td>smiling face with halo</td>\n",
       "      <td>Smileys &amp; Emotion</td>\n",
       "      <td>face-smiling</td>\n",
       "      <td>1F607</td>\n",
       "    </tr>\n",
       "    <tr>\n",
       "      <th>14</th>\n",
       "      <td>🥰</td>\n",
       "      <td>smiling face with hearts</td>\n",
       "      <td>Smileys &amp; Emotion</td>\n",
       "      <td>face-affection</td>\n",
       "      <td>1F970</td>\n",
       "    </tr>\n",
       "    <tr>\n",
       "      <th>15</th>\n",
       "      <td>😍</td>\n",
       "      <td>smiling face with heart-eyes</td>\n",
       "      <td>Smileys &amp; Emotion</td>\n",
       "      <td>face-affection</td>\n",
       "      <td>1F60D</td>\n",
       "    </tr>\n",
       "    <tr>\n",
       "      <th>16</th>\n",
       "      <td>🤩</td>\n",
       "      <td>star-struck</td>\n",
       "      <td>Smileys &amp; Emotion</td>\n",
       "      <td>face-affection</td>\n",
       "      <td>1F929</td>\n",
       "    </tr>\n",
       "    <tr>\n",
       "      <th>17</th>\n",
       "      <td>😘</td>\n",
       "      <td>face blowing a kiss</td>\n",
       "      <td>Smileys &amp; Emotion</td>\n",
       "      <td>face-affection</td>\n",
       "      <td>1F618</td>\n",
       "    </tr>\n",
       "    <tr>\n",
       "      <th>18</th>\n",
       "      <td>😗</td>\n",
       "      <td>kissing face</td>\n",
       "      <td>Smileys &amp; Emotion</td>\n",
       "      <td>face-affection</td>\n",
       "      <td>1F617</td>\n",
       "    </tr>\n",
       "    <tr>\n",
       "      <th>19</th>\n",
       "      <td>☺️</td>\n",
       "      <td>smiling face</td>\n",
       "      <td>Smileys &amp; Emotion</td>\n",
       "      <td>face-affection</td>\n",
       "      <td>263A FE0F</td>\n",
       "    </tr>\n",
       "    <tr>\n",
       "      <th>20</th>\n",
       "      <td>☺</td>\n",
       "      <td>smiling face</td>\n",
       "      <td>Smileys &amp; Emotion</td>\n",
       "      <td>face-affection</td>\n",
       "      <td>263A</td>\n",
       "    </tr>\n",
       "    <tr>\n",
       "      <th>21</th>\n",
       "      <td>😚</td>\n",
       "      <td>kissing face with closed eyes</td>\n",
       "      <td>Smileys &amp; Emotion</td>\n",
       "      <td>face-affection</td>\n",
       "      <td>1F61A</td>\n",
       "    </tr>\n",
       "    <tr>\n",
       "      <th>22</th>\n",
       "      <td>😙</td>\n",
       "      <td>kissing face with smiling eyes</td>\n",
       "      <td>Smileys &amp; Emotion</td>\n",
       "      <td>face-affection</td>\n",
       "      <td>1F619</td>\n",
       "    </tr>\n",
       "    <tr>\n",
       "      <th>23</th>\n",
       "      <td>🥲</td>\n",
       "      <td>smiling face with tear</td>\n",
       "      <td>Smileys &amp; Emotion</td>\n",
       "      <td>face-affection</td>\n",
       "      <td>1F972</td>\n",
       "    </tr>\n",
       "    <tr>\n",
       "      <th>24</th>\n",
       "      <td>😋</td>\n",
       "      <td>face savoring food</td>\n",
       "      <td>Smileys &amp; Emotion</td>\n",
       "      <td>face-tongue</td>\n",
       "      <td>1F60B</td>\n",
       "    </tr>\n",
       "    <tr>\n",
       "      <th>25</th>\n",
       "      <td>😛</td>\n",
       "      <td>face with tongue</td>\n",
       "      <td>Smileys &amp; Emotion</td>\n",
       "      <td>face-tongue</td>\n",
       "      <td>1F61B</td>\n",
       "    </tr>\n",
       "    <tr>\n",
       "      <th>26</th>\n",
       "      <td>😜</td>\n",
       "      <td>winking face with tongue</td>\n",
       "      <td>Smileys &amp; Emotion</td>\n",
       "      <td>face-tongue</td>\n",
       "      <td>1F61C</td>\n",
       "    </tr>\n",
       "    <tr>\n",
       "      <th>27</th>\n",
       "      <td>🤪</td>\n",
       "      <td>zany face</td>\n",
       "      <td>Smileys &amp; Emotion</td>\n",
       "      <td>face-tongue</td>\n",
       "      <td>1F92A</td>\n",
       "    </tr>\n",
       "    <tr>\n",
       "      <th>28</th>\n",
       "      <td>😝</td>\n",
       "      <td>squinting face with tongue</td>\n",
       "      <td>Smileys &amp; Emotion</td>\n",
       "      <td>face-tongue</td>\n",
       "      <td>1F61D</td>\n",
       "    </tr>\n",
       "    <tr>\n",
       "      <th>29</th>\n",
       "      <td>🤑</td>\n",
       "      <td>money-mouth face</td>\n",
       "      <td>Smileys &amp; Emotion</td>\n",
       "      <td>face-tongue</td>\n",
       "      <td>1F911</td>\n",
       "    </tr>\n",
       "    <tr>\n",
       "      <th>30</th>\n",
       "      <td>🤗</td>\n",
       "      <td>smiling face with open hands</td>\n",
       "      <td>Smileys &amp; Emotion</td>\n",
       "      <td>face-hand</td>\n",
       "      <td>1F917</td>\n",
       "    </tr>\n",
       "    <tr>\n",
       "      <th>31</th>\n",
       "      <td>🤭</td>\n",
       "      <td>face with hand over mouth</td>\n",
       "      <td>Smileys &amp; Emotion</td>\n",
       "      <td>face-hand</td>\n",
       "      <td>1F92D</td>\n",
       "    </tr>\n",
       "    <tr>\n",
       "      <th>32</th>\n",
       "      <td>🫢</td>\n",
       "      <td>face with open eyes and hand over mouth</td>\n",
       "      <td>Smileys &amp; Emotion</td>\n",
       "      <td>face-hand</td>\n",
       "      <td>1FAE2</td>\n",
       "    </tr>\n",
       "    <tr>\n",
       "      <th>33</th>\n",
       "      <td>🫣</td>\n",
       "      <td>face with peeking eye</td>\n",
       "      <td>Smileys &amp; Emotion</td>\n",
       "      <td>face-hand</td>\n",
       "      <td>1FAE3</td>\n",
       "    </tr>\n",
       "    <tr>\n",
       "      <th>34</th>\n",
       "      <td>🤫</td>\n",
       "      <td>shushing face</td>\n",
       "      <td>Smileys &amp; Emotion</td>\n",
       "      <td>face-hand</td>\n",
       "      <td>1F92B</td>\n",
       "    </tr>\n",
       "  </tbody>\n",
       "</table>\n",
       "</div>"
      ],
      "text/plain": [
       "   emoji                                     name              group  \\\n",
       "0      😀                            grinning face  Smileys & Emotion   \n",
       "1      😃              grinning face with big eyes  Smileys & Emotion   \n",
       "2      😄          grinning face with smiling eyes  Smileys & Emotion   \n",
       "3      😁           beaming face with smiling eyes  Smileys & Emotion   \n",
       "4      😆                  grinning squinting face  Smileys & Emotion   \n",
       "5      😅                 grinning face with sweat  Smileys & Emotion   \n",
       "6      🤣            rolling on the floor laughing  Smileys & Emotion   \n",
       "7      😂                   face with tears of joy  Smileys & Emotion   \n",
       "8      🙂                    slightly smiling face  Smileys & Emotion   \n",
       "9      🙃                         upside-down face  Smileys & Emotion   \n",
       "10     🫠                             melting face  Smileys & Emotion   \n",
       "11     😉                             winking face  Smileys & Emotion   \n",
       "12     😊           smiling face with smiling eyes  Smileys & Emotion   \n",
       "13     😇                   smiling face with halo  Smileys & Emotion   \n",
       "14     🥰                 smiling face with hearts  Smileys & Emotion   \n",
       "15     😍             smiling face with heart-eyes  Smileys & Emotion   \n",
       "16     🤩                              star-struck  Smileys & Emotion   \n",
       "17     😘                      face blowing a kiss  Smileys & Emotion   \n",
       "18     😗                             kissing face  Smileys & Emotion   \n",
       "19    ☺️                             smiling face  Smileys & Emotion   \n",
       "20     ☺                             smiling face  Smileys & Emotion   \n",
       "21     😚            kissing face with closed eyes  Smileys & Emotion   \n",
       "22     😙           kissing face with smiling eyes  Smileys & Emotion   \n",
       "23     🥲                   smiling face with tear  Smileys & Emotion   \n",
       "24     😋                       face savoring food  Smileys & Emotion   \n",
       "25     😛                         face with tongue  Smileys & Emotion   \n",
       "26     😜                 winking face with tongue  Smileys & Emotion   \n",
       "27     🤪                                zany face  Smileys & Emotion   \n",
       "28     😝               squinting face with tongue  Smileys & Emotion   \n",
       "29     🤑                         money-mouth face  Smileys & Emotion   \n",
       "30     🤗             smiling face with open hands  Smileys & Emotion   \n",
       "31     🤭                face with hand over mouth  Smileys & Emotion   \n",
       "32     🫢  face with open eyes and hand over mouth  Smileys & Emotion   \n",
       "33     🫣                    face with peeking eye  Smileys & Emotion   \n",
       "34     🤫                            shushing face  Smileys & Emotion   \n",
       "\n",
       "         sub_group codepoints  \n",
       "0     face-smiling      1F600  \n",
       "1     face-smiling      1F603  \n",
       "2     face-smiling      1F604  \n",
       "3     face-smiling      1F601  \n",
       "4     face-smiling      1F606  \n",
       "5     face-smiling      1F605  \n",
       "6     face-smiling      1F923  \n",
       "7     face-smiling      1F602  \n",
       "8     face-smiling      1F642  \n",
       "9     face-smiling      1F643  \n",
       "10    face-smiling      1FAE0  \n",
       "11    face-smiling      1F609  \n",
       "12    face-smiling      1F60A  \n",
       "13    face-smiling      1F607  \n",
       "14  face-affection      1F970  \n",
       "15  face-affection      1F60D  \n",
       "16  face-affection      1F929  \n",
       "17  face-affection      1F618  \n",
       "18  face-affection      1F617  \n",
       "19  face-affection  263A FE0F  \n",
       "20  face-affection       263A  \n",
       "21  face-affection      1F61A  \n",
       "22  face-affection      1F619  \n",
       "23  face-affection      1F972  \n",
       "24     face-tongue      1F60B  \n",
       "25     face-tongue      1F61B  \n",
       "26     face-tongue      1F61C  \n",
       "27     face-tongue      1F92A  \n",
       "28     face-tongue      1F61D  \n",
       "29     face-tongue      1F911  \n",
       "30       face-hand      1F917  \n",
       "31       face-hand      1F92D  \n",
       "32       face-hand      1FAE2  \n",
       "33       face-hand      1FAE3  \n",
       "34       face-hand      1F92B  "
      ]
     },
     "execution_count": 33,
     "metadata": {},
     "output_type": "execute_result"
    }
   ],
   "source": [
    "import pandas as pd\n",
    "pd.options.display.max_columns = None\n",
    "\n",
    "emoji_df = pd.read_csv('emoji_df.csv', sep=';')\n",
    "emoji_df.to_csv('emoji_df.csv', index=False)\n",
    "emoji_df = pd.read_csv('emoji_df.csv')\n",
    "emoji_df[:35]"
   ]
  },
  {
   "cell_type": "markdown",
   "id": "386ac7e0",
   "metadata": {
    "papermill": {
     "duration": 0.022385,
     "end_time": "2023-08-07T22:49:32.311178",
     "exception": false,
     "start_time": "2023-08-07T22:49:32.288793",
     "status": "completed"
    },
    "tags": []
   },
   "source": [
    "# Emoji in Real-life Data\n",
    "Let's see how we can use this regex on a tweet dataset containing five thousand tweets that contain the hashtag #JustDoIt."
   ]
  },
  {
   "cell_type": "code",
   "execution_count": 34,
   "id": "b8ae841a",
   "metadata": {
    "execution": {
     "iopub.execute_input": "2023-08-07T22:49:32.359133Z",
     "iopub.status.busy": "2023-08-07T22:49:32.358153Z",
     "iopub.status.idle": "2023-08-07T22:49:33.143020Z",
     "shell.execute_reply": "2023-08-07T22:49:33.141521Z"
    },
    "papermill": {
     "duration": 0.812468,
     "end_time": "2023-08-07T22:49:33.146283",
     "exception": false,
     "start_time": "2023-08-07T22:49:32.333815",
     "status": "completed"
    },
    "tags": []
   },
   "outputs": [
    {
     "data": {
      "text/html": [
       "<div>\n",
       "<style scoped>\n",
       "    .dataframe tbody tr th:only-of-type {\n",
       "        vertical-align: middle;\n",
       "    }\n",
       "\n",
       "    .dataframe tbody tr th {\n",
       "        vertical-align: top;\n",
       "    }\n",
       "\n",
       "    .dataframe thead th {\n",
       "        text-align: right;\n",
       "    }\n",
       "</style>\n",
       "<table border=\"1\" class=\"dataframe\">\n",
       "  <thead>\n",
       "    <tr style=\"text-align: right;\">\n",
       "      <th></th>\n",
       "      <th>tweet_contributors</th>\n",
       "      <th>tweet_coordinates</th>\n",
       "      <th>tweet_created_at</th>\n",
       "      <th>tweet_display_text_range</th>\n",
       "      <th>tweet_entities</th>\n",
       "      <th>tweet_extended_entities</th>\n",
       "      <th>tweet_favorite_count</th>\n",
       "      <th>tweet_favorited</th>\n",
       "      <th>tweet_full_text</th>\n",
       "      <th>tweet_geo</th>\n",
       "      <th>tweet_id</th>\n",
       "      <th>tweet_id_str</th>\n",
       "      <th>tweet_in_reply_to_screen_name</th>\n",
       "      <th>tweet_in_reply_to_status_id</th>\n",
       "      <th>tweet_in_reply_to_status_id_str</th>\n",
       "      <th>tweet_in_reply_to_user_id</th>\n",
       "      <th>tweet_in_reply_to_user_id_str</th>\n",
       "      <th>tweet_is_quote_status</th>\n",
       "      <th>tweet_lang</th>\n",
       "      <th>tweet_metadata</th>\n",
       "      <th>tweet_place</th>\n",
       "      <th>tweet_possibly_sensitive</th>\n",
       "      <th>tweet_quoted_status</th>\n",
       "      <th>tweet_quoted_status_id</th>\n",
       "      <th>tweet_quoted_status_id_str</th>\n",
       "      <th>tweet_retweet_count</th>\n",
       "      <th>tweet_retweeted</th>\n",
       "      <th>tweet_source</th>\n",
       "      <th>tweet_truncated</th>\n",
       "      <th>tweet_user</th>\n",
       "      <th>user_contributors_enabled</th>\n",
       "      <th>user_created_at</th>\n",
       "      <th>user_default_profile</th>\n",
       "      <th>user_default_profile_image</th>\n",
       "      <th>user_description</th>\n",
       "      <th>user_entities</th>\n",
       "      <th>user_favourites_count</th>\n",
       "      <th>user_follow_request_sent</th>\n",
       "      <th>user_followers_count</th>\n",
       "      <th>user_following</th>\n",
       "      <th>user_friends_count</th>\n",
       "      <th>user_geo_enabled</th>\n",
       "      <th>user_has_extended_profile</th>\n",
       "      <th>user_id</th>\n",
       "      <th>user_id_str</th>\n",
       "      <th>user_is_translation_enabled</th>\n",
       "      <th>user_is_translator</th>\n",
       "      <th>user_lang</th>\n",
       "      <th>user_listed_count</th>\n",
       "      <th>user_location</th>\n",
       "      <th>user_name</th>\n",
       "      <th>user_notifications</th>\n",
       "      <th>user_profile_background_color</th>\n",
       "      <th>user_profile_background_image_url</th>\n",
       "      <th>user_profile_background_image_url_https</th>\n",
       "      <th>user_profile_background_tile</th>\n",
       "      <th>user_profile_banner_url</th>\n",
       "      <th>user_profile_image_url</th>\n",
       "      <th>user_profile_image_url_https</th>\n",
       "      <th>user_profile_link_color</th>\n",
       "      <th>user_profile_sidebar_border_color</th>\n",
       "      <th>user_profile_sidebar_fill_color</th>\n",
       "      <th>user_profile_text_color</th>\n",
       "      <th>user_profile_use_background_image</th>\n",
       "      <th>user_protected</th>\n",
       "      <th>user_screen_name</th>\n",
       "      <th>user_statuses_count</th>\n",
       "      <th>user_time_zone</th>\n",
       "      <th>user_translator_type</th>\n",
       "      <th>user_url</th>\n",
       "      <th>user_utc_offset</th>\n",
       "      <th>user_verified</th>\n",
       "    </tr>\n",
       "  </thead>\n",
       "  <tbody>\n",
       "    <tr>\n",
       "      <th>0</th>\n",
       "      <td>NaN</td>\n",
       "      <td>NaN</td>\n",
       "      <td>Fri Sep 07 16:25:06 +0000 2018</td>\n",
       "      <td>[0, 75]</td>\n",
       "      <td>{'hashtags': [{'text': 'quote', 'indices': [47...</td>\n",
       "      <td>{'media': [{'id': 1038100853872197632, 'id_str...</td>\n",
       "      <td>0</td>\n",
       "      <td>False</td>\n",
       "      <td>Done is better than perfect. — Sheryl Sandberg...</td>\n",
       "      <td>NaN</td>\n",
       "      <td>1038100857932394496</td>\n",
       "      <td>1038100857932394496</td>\n",
       "      <td>NaN</td>\n",
       "      <td>NaN</td>\n",
       "      <td>NaN</td>\n",
       "      <td>NaN</td>\n",
       "      <td>NaN</td>\n",
       "      <td>False</td>\n",
       "      <td>en</td>\n",
       "      <td>{'iso_language_code': 'en', 'result_type': 're...</td>\n",
       "      <td>NaN</td>\n",
       "      <td>False</td>\n",
       "      <td>NaN</td>\n",
       "      <td>NaN</td>\n",
       "      <td>NaN</td>\n",
       "      <td>0</td>\n",
       "      <td>False</td>\n",
       "      <td>&lt;a href=\"https://statusbrew.com\" rel=\"nofollow...</td>\n",
       "      <td>False</td>\n",
       "      <td>{'id': 3188618684, 'id_str': '3188618684', 'na...</td>\n",
       "      <td>False</td>\n",
       "      <td>Fri May 08 10:27:51 +0000 2015</td>\n",
       "      <td>True</td>\n",
       "      <td>False</td>\n",
       "      <td>I share tips to achieve your health goals and ...</td>\n",
       "      <td>{'url': {'urls': [{'url': 'https://t.co/jGlJsw...</td>\n",
       "      <td>307.0</td>\n",
       "      <td>False</td>\n",
       "      <td>57983.0</td>\n",
       "      <td>False</td>\n",
       "      <td>48721.0</td>\n",
       "      <td>False</td>\n",
       "      <td>False</td>\n",
       "      <td>3.188619e+09</td>\n",
       "      <td>3.188619e+09</td>\n",
       "      <td>False</td>\n",
       "      <td>False</td>\n",
       "      <td>en</td>\n",
       "      <td>629.0</td>\n",
       "      <td>California, USA</td>\n",
       "      <td>Ultra YOU Woman</td>\n",
       "      <td>False</td>\n",
       "      <td>C0DEED</td>\n",
       "      <td>http://abs.twimg.com/images/themes/theme1/bg.png</td>\n",
       "      <td>https://abs.twimg.com/images/themes/theme1/bg.png</td>\n",
       "      <td>False</td>\n",
       "      <td>https://pbs.twimg.com/profile_banners/31886186...</td>\n",
       "      <td>http://pbs.twimg.com/profile_images/5970009262...</td>\n",
       "      <td>https://pbs.twimg.com/profile_images/597000926...</td>\n",
       "      <td>1DA1F2</td>\n",
       "      <td>C0DEED</td>\n",
       "      <td>DDEEF6</td>\n",
       "      <td>333333</td>\n",
       "      <td>True</td>\n",
       "      <td>False</td>\n",
       "      <td>UltraYOUwoman</td>\n",
       "      <td>91870.0</td>\n",
       "      <td>NaN</td>\n",
       "      <td>none</td>\n",
       "      <td>https://t.co/jGlJswxjwS</td>\n",
       "      <td>NaN</td>\n",
       "      <td>False</td>\n",
       "    </tr>\n",
       "    <tr>\n",
       "      <th>1</th>\n",
       "      <td>NaN</td>\n",
       "      <td>NaN</td>\n",
       "      <td>Fri Sep 07 16:24:59 +0000 2018</td>\n",
       "      <td>[0, 237]</td>\n",
       "      <td>{'hashtags': [{'text': 'hero', 'indices': [90,...</td>\n",
       "      <td>NaN</td>\n",
       "      <td>0</td>\n",
       "      <td>False</td>\n",
       "      <td>Shout out to the Great Fire Department and the...</td>\n",
       "      <td>NaN</td>\n",
       "      <td>1038100830807904256</td>\n",
       "      <td>1038100830807904256</td>\n",
       "      <td>NaN</td>\n",
       "      <td>NaN</td>\n",
       "      <td>NaN</td>\n",
       "      <td>NaN</td>\n",
       "      <td>NaN</td>\n",
       "      <td>False</td>\n",
       "      <td>en</td>\n",
       "      <td>{'iso_language_code': 'en', 'result_type': 're...</td>\n",
       "      <td>NaN</td>\n",
       "      <td>False</td>\n",
       "      <td>NaN</td>\n",
       "      <td>NaN</td>\n",
       "      <td>NaN</td>\n",
       "      <td>0</td>\n",
       "      <td>False</td>\n",
       "      <td>&lt;a href=\"http://www.facebook.com/twitter\" rel=...</td>\n",
       "      <td>False</td>\n",
       "      <td>{'id': 18387174, 'id_str': '18387174', 'name':...</td>\n",
       "      <td>False</td>\n",
       "      <td>Fri Dec 26 09:30:23 +0000 2008</td>\n",
       "      <td>False</td>\n",
       "      <td>False</td>\n",
       "      <td>All Business inquiries contact cluuxx@gmail.co...</td>\n",
       "      <td>{'url': {'urls': [{'url': 'http://t.co/lVm8vfD...</td>\n",
       "      <td>1178.0</td>\n",
       "      <td>False</td>\n",
       "      <td>13241.0</td>\n",
       "      <td>False</td>\n",
       "      <td>5489.0</td>\n",
       "      <td>False</td>\n",
       "      <td>False</td>\n",
       "      <td>1.838717e+07</td>\n",
       "      <td>1.838717e+07</td>\n",
       "      <td>False</td>\n",
       "      <td>False</td>\n",
       "      <td>en</td>\n",
       "      <td>150.0</td>\n",
       "      <td>Miami, Florida</td>\n",
       "      <td>Yung Cut Up (Videos)</td>\n",
       "      <td>False</td>\n",
       "      <td>131516</td>\n",
       "      <td>http://abs.twimg.com/images/themes/theme14/bg.gif</td>\n",
       "      <td>https://abs.twimg.com/images/themes/theme14/bg...</td>\n",
       "      <td>True</td>\n",
       "      <td>https://pbs.twimg.com/profile_banners/18387174...</td>\n",
       "      <td>http://pbs.twimg.com/profile_images/9453331145...</td>\n",
       "      <td>https://pbs.twimg.com/profile_images/945333114...</td>\n",
       "      <td>3B94D9</td>\n",
       "      <td>FFFFFF</td>\n",
       "      <td>EFEFEF</td>\n",
       "      <td>333333</td>\n",
       "      <td>True</td>\n",
       "      <td>False</td>\n",
       "      <td>yungcutup</td>\n",
       "      <td>618822.0</td>\n",
       "      <td>NaN</td>\n",
       "      <td>none</td>\n",
       "      <td>http://t.co/lVm8vfDbfO</td>\n",
       "      <td>NaN</td>\n",
       "      <td>False</td>\n",
       "    </tr>\n",
       "    <tr>\n",
       "      <th>2</th>\n",
       "      <td>NaN</td>\n",
       "      <td>NaN</td>\n",
       "      <td>Fri Sep 07 16:24:50 +0000 2018</td>\n",
       "      <td>[0, 176]</td>\n",
       "      <td>{'hashtags': [{'text': 'JustDoIt', 'indices': ...</td>\n",
       "      <td>{'media': [{'id': 1038100773396041728, 'id_str...</td>\n",
       "      <td>0</td>\n",
       "      <td>False</td>\n",
       "      <td>There are some AMAZINGLY hilarious Nike Ad mem...</td>\n",
       "      <td>NaN</td>\n",
       "      <td>1038100793147248640</td>\n",
       "      <td>1038100793147248640</td>\n",
       "      <td>NaN</td>\n",
       "      <td>NaN</td>\n",
       "      <td>NaN</td>\n",
       "      <td>NaN</td>\n",
       "      <td>NaN</td>\n",
       "      <td>False</td>\n",
       "      <td>en</td>\n",
       "      <td>{'iso_language_code': 'en', 'result_type': 're...</td>\n",
       "      <td>NaN</td>\n",
       "      <td>False</td>\n",
       "      <td>NaN</td>\n",
       "      <td>NaN</td>\n",
       "      <td>NaN</td>\n",
       "      <td>0</td>\n",
       "      <td>False</td>\n",
       "      <td>&lt;a href=\"http://twitter.com/download/iphone\" r...</td>\n",
       "      <td>False</td>\n",
       "      <td>{'id': 32645612, 'id_str': '32645612', 'name':...</td>\n",
       "      <td>False</td>\n",
       "      <td>Fri Apr 17 23:04:15 +0000 2009</td>\n",
       "      <td>False</td>\n",
       "      <td>False</td>\n",
       "      <td>Morning Traffic Reporter @CBS4Indy | Traffic A...</td>\n",
       "      <td>{'url': {'urls': [{'url': 'https://t.co/g9exqg...</td>\n",
       "      <td>11864.0</td>\n",
       "      <td>False</td>\n",
       "      <td>11377.0</td>\n",
       "      <td>False</td>\n",
       "      <td>2386.0</td>\n",
       "      <td>False</td>\n",
       "      <td>False</td>\n",
       "      <td>3.264561e+07</td>\n",
       "      <td>3.264561e+07</td>\n",
       "      <td>False</td>\n",
       "      <td>False</td>\n",
       "      <td>en</td>\n",
       "      <td>193.0</td>\n",
       "      <td>Indianapolis, IN</td>\n",
       "      <td>Rachel Bogle</td>\n",
       "      <td>False</td>\n",
       "      <td>FFFAFF</td>\n",
       "      <td>http://abs.twimg.com/images/themes/theme1/bg.png</td>\n",
       "      <td>https://abs.twimg.com/images/themes/theme1/bg.png</td>\n",
       "      <td>False</td>\n",
       "      <td>https://pbs.twimg.com/profile_banners/32645612...</td>\n",
       "      <td>http://pbs.twimg.com/profile_images/9863459563...</td>\n",
       "      <td>https://pbs.twimg.com/profile_images/986345956...</td>\n",
       "      <td>050505</td>\n",
       "      <td>FFFFFF</td>\n",
       "      <td>FC6A71</td>\n",
       "      <td>050505</td>\n",
       "      <td>True</td>\n",
       "      <td>False</td>\n",
       "      <td>rachelbogle</td>\n",
       "      <td>48075.0</td>\n",
       "      <td>NaN</td>\n",
       "      <td>none</td>\n",
       "      <td>https://t.co/g9exqgZp9x</td>\n",
       "      <td>NaN</td>\n",
       "      <td>True</td>\n",
       "    </tr>\n",
       "  </tbody>\n",
       "</table>\n",
       "</div>"
      ],
      "text/plain": [
       "   tweet_contributors tweet_coordinates                tweet_created_at  \\\n",
       "0                 NaN               NaN  Fri Sep 07 16:25:06 +0000 2018   \n",
       "1                 NaN               NaN  Fri Sep 07 16:24:59 +0000 2018   \n",
       "2                 NaN               NaN  Fri Sep 07 16:24:50 +0000 2018   \n",
       "\n",
       "  tweet_display_text_range                                     tweet_entities  \\\n",
       "0                  [0, 75]  {'hashtags': [{'text': 'quote', 'indices': [47...   \n",
       "1                 [0, 237]  {'hashtags': [{'text': 'hero', 'indices': [90,...   \n",
       "2                 [0, 176]  {'hashtags': [{'text': 'JustDoIt', 'indices': ...   \n",
       "\n",
       "                             tweet_extended_entities  tweet_favorite_count  \\\n",
       "0  {'media': [{'id': 1038100853872197632, 'id_str...                     0   \n",
       "1                                                NaN                     0   \n",
       "2  {'media': [{'id': 1038100773396041728, 'id_str...                     0   \n",
       "\n",
       "   tweet_favorited                                    tweet_full_text  \\\n",
       "0            False  Done is better than perfect. — Sheryl Sandberg...   \n",
       "1            False  Shout out to the Great Fire Department and the...   \n",
       "2            False  There are some AMAZINGLY hilarious Nike Ad mem...   \n",
       "\n",
       "  tweet_geo             tweet_id         tweet_id_str  \\\n",
       "0       NaN  1038100857932394496  1038100857932394496   \n",
       "1       NaN  1038100830807904256  1038100830807904256   \n",
       "2       NaN  1038100793147248640  1038100793147248640   \n",
       "\n",
       "  tweet_in_reply_to_screen_name  tweet_in_reply_to_status_id  \\\n",
       "0                           NaN                          NaN   \n",
       "1                           NaN                          NaN   \n",
       "2                           NaN                          NaN   \n",
       "\n",
       "   tweet_in_reply_to_status_id_str  tweet_in_reply_to_user_id  \\\n",
       "0                              NaN                        NaN   \n",
       "1                              NaN                        NaN   \n",
       "2                              NaN                        NaN   \n",
       "\n",
       "   tweet_in_reply_to_user_id_str  tweet_is_quote_status tweet_lang  \\\n",
       "0                            NaN                  False         en   \n",
       "1                            NaN                  False         en   \n",
       "2                            NaN                  False         en   \n",
       "\n",
       "                                      tweet_metadata tweet_place  \\\n",
       "0  {'iso_language_code': 'en', 'result_type': 're...         NaN   \n",
       "1  {'iso_language_code': 'en', 'result_type': 're...         NaN   \n",
       "2  {'iso_language_code': 'en', 'result_type': 're...         NaN   \n",
       "\n",
       "  tweet_possibly_sensitive tweet_quoted_status  tweet_quoted_status_id  \\\n",
       "0                    False                 NaN                     NaN   \n",
       "1                    False                 NaN                     NaN   \n",
       "2                    False                 NaN                     NaN   \n",
       "\n",
       "   tweet_quoted_status_id_str  tweet_retweet_count  tweet_retweeted  \\\n",
       "0                         NaN                    0            False   \n",
       "1                         NaN                    0            False   \n",
       "2                         NaN                    0            False   \n",
       "\n",
       "                                        tweet_source  tweet_truncated  \\\n",
       "0  <a href=\"https://statusbrew.com\" rel=\"nofollow...            False   \n",
       "1  <a href=\"http://www.facebook.com/twitter\" rel=...            False   \n",
       "2  <a href=\"http://twitter.com/download/iphone\" r...            False   \n",
       "\n",
       "                                          tweet_user  \\\n",
       "0  {'id': 3188618684, 'id_str': '3188618684', 'na...   \n",
       "1  {'id': 18387174, 'id_str': '18387174', 'name':...   \n",
       "2  {'id': 32645612, 'id_str': '32645612', 'name':...   \n",
       "\n",
       "   user_contributors_enabled                 user_created_at  \\\n",
       "0                      False  Fri May 08 10:27:51 +0000 2015   \n",
       "1                      False  Fri Dec 26 09:30:23 +0000 2008   \n",
       "2                      False  Fri Apr 17 23:04:15 +0000 2009   \n",
       "\n",
       "   user_default_profile  user_default_profile_image  \\\n",
       "0                  True                       False   \n",
       "1                 False                       False   \n",
       "2                 False                       False   \n",
       "\n",
       "                                    user_description  \\\n",
       "0  I share tips to achieve your health goals and ...   \n",
       "1  All Business inquiries contact cluuxx@gmail.co...   \n",
       "2  Morning Traffic Reporter @CBS4Indy | Traffic A...   \n",
       "\n",
       "                                       user_entities  user_favourites_count  \\\n",
       "0  {'url': {'urls': [{'url': 'https://t.co/jGlJsw...                  307.0   \n",
       "1  {'url': {'urls': [{'url': 'http://t.co/lVm8vfD...                 1178.0   \n",
       "2  {'url': {'urls': [{'url': 'https://t.co/g9exqg...                11864.0   \n",
       "\n",
       "  user_follow_request_sent  user_followers_count user_following  \\\n",
       "0                    False               57983.0          False   \n",
       "1                    False               13241.0          False   \n",
       "2                    False               11377.0          False   \n",
       "\n",
       "   user_friends_count user_geo_enabled user_has_extended_profile  \\\n",
       "0             48721.0            False                     False   \n",
       "1              5489.0            False                     False   \n",
       "2              2386.0            False                     False   \n",
       "\n",
       "        user_id   user_id_str user_is_translation_enabled user_is_translator  \\\n",
       "0  3.188619e+09  3.188619e+09                       False              False   \n",
       "1  1.838717e+07  1.838717e+07                       False              False   \n",
       "2  3.264561e+07  3.264561e+07                       False              False   \n",
       "\n",
       "  user_lang  user_listed_count     user_location             user_name  \\\n",
       "0        en              629.0   California, USA       Ultra YOU Woman   \n",
       "1        en              150.0    Miami, Florida  Yung Cut Up (Videos)   \n",
       "2        en              193.0  Indianapolis, IN          Rachel Bogle   \n",
       "\n",
       "  user_notifications user_profile_background_color  \\\n",
       "0              False                        C0DEED   \n",
       "1              False                        131516   \n",
       "2              False                        FFFAFF   \n",
       "\n",
       "                   user_profile_background_image_url  \\\n",
       "0   http://abs.twimg.com/images/themes/theme1/bg.png   \n",
       "1  http://abs.twimg.com/images/themes/theme14/bg.gif   \n",
       "2   http://abs.twimg.com/images/themes/theme1/bg.png   \n",
       "\n",
       "             user_profile_background_image_url_https  \\\n",
       "0  https://abs.twimg.com/images/themes/theme1/bg.png   \n",
       "1  https://abs.twimg.com/images/themes/theme14/bg...   \n",
       "2  https://abs.twimg.com/images/themes/theme1/bg.png   \n",
       "\n",
       "  user_profile_background_tile  \\\n",
       "0                        False   \n",
       "1                         True   \n",
       "2                        False   \n",
       "\n",
       "                             user_profile_banner_url  \\\n",
       "0  https://pbs.twimg.com/profile_banners/31886186...   \n",
       "1  https://pbs.twimg.com/profile_banners/18387174...   \n",
       "2  https://pbs.twimg.com/profile_banners/32645612...   \n",
       "\n",
       "                              user_profile_image_url  \\\n",
       "0  http://pbs.twimg.com/profile_images/5970009262...   \n",
       "1  http://pbs.twimg.com/profile_images/9453331145...   \n",
       "2  http://pbs.twimg.com/profile_images/9863459563...   \n",
       "\n",
       "                        user_profile_image_url_https user_profile_link_color  \\\n",
       "0  https://pbs.twimg.com/profile_images/597000926...                  1DA1F2   \n",
       "1  https://pbs.twimg.com/profile_images/945333114...                  3B94D9   \n",
       "2  https://pbs.twimg.com/profile_images/986345956...                  050505   \n",
       "\n",
       "  user_profile_sidebar_border_color user_profile_sidebar_fill_color  \\\n",
       "0                            C0DEED                          DDEEF6   \n",
       "1                            FFFFFF                          EFEFEF   \n",
       "2                            FFFFFF                          FC6A71   \n",
       "\n",
       "  user_profile_text_color user_profile_use_background_image user_protected  \\\n",
       "0                  333333                              True          False   \n",
       "1                  333333                              True          False   \n",
       "2                  050505                              True          False   \n",
       "\n",
       "  user_screen_name  user_statuses_count  user_time_zone user_translator_type  \\\n",
       "0    UltraYOUwoman              91870.0             NaN                 none   \n",
       "1        yungcutup             618822.0             NaN                 none   \n",
       "2      rachelbogle              48075.0             NaN                 none   \n",
       "\n",
       "                  user_url  user_utc_offset user_verified  \n",
       "0  https://t.co/jGlJswxjwS              NaN         False  \n",
       "1   http://t.co/lVm8vfDbfO              NaN         False  \n",
       "2  https://t.co/g9exqgZp9x              NaN          True  "
      ]
     },
     "execution_count": 34,
     "metadata": {},
     "output_type": "execute_result"
    }
   ],
   "source": [
    "justdoit = pd.read_csv('../input/5000-justdoit-tweets-dataset/justdoit_tweets_2018_09_07_2.csv')\n",
    "justdoit.head(3)"
   ]
  },
  {
   "cell_type": "markdown",
   "id": "50cbf4ce",
   "metadata": {
    "papermill": {
     "duration": 0.023462,
     "end_time": "2023-08-07T22:49:33.193610",
     "exception": false,
     "start_time": "2023-08-07T22:49:33.170148",
     "status": "completed"
    },
    "tags": []
   },
   "source": [
    "The `word_frequency` function in `advertools` extracts words and counts their occurrences on an absolute and weighted basis. The function takes an optional `regex` parameter, whereby the function counts occurrences of matches of the regex (and not all words).  \n",
    "We can now use the regex created, to extract and count emoji in our dataset. "
   ]
  },
  {
   "cell_type": "code",
   "execution_count": 35,
   "id": "12dc145b",
   "metadata": {
    "execution": {
     "iopub.execute_input": "2023-08-07T22:49:33.244698Z",
     "iopub.status.busy": "2023-08-07T22:49:33.244263Z",
     "iopub.status.idle": "2023-08-07T22:49:43.656917Z",
     "shell.execute_reply": "2023-08-07T22:49:43.655369Z"
    },
    "papermill": {
     "duration": 10.44247,
     "end_time": "2023-08-07T22:49:43.659818",
     "exception": false,
     "start_time": "2023-08-07T22:49:33.217348",
     "status": "completed"
    },
    "tags": []
   },
   "outputs": [
    {
     "data": {
      "text/html": [
       "<div>\n",
       "<style scoped>\n",
       "    .dataframe tbody tr th:only-of-type {\n",
       "        vertical-align: middle;\n",
       "    }\n",
       "\n",
       "    .dataframe tbody tr th {\n",
       "        vertical-align: top;\n",
       "    }\n",
       "\n",
       "    .dataframe thead th {\n",
       "        text-align: right;\n",
       "    }\n",
       "</style>\n",
       "<table border=\"1\" class=\"dataframe\">\n",
       "  <thead>\n",
       "    <tr style=\"text-align: right;\">\n",
       "      <th></th>\n",
       "      <th>word</th>\n",
       "      <th>abs_freq</th>\n",
       "      <th>wtd_freq</th>\n",
       "      <th>rel_value</th>\n",
       "    </tr>\n",
       "  </thead>\n",
       "  <tbody>\n",
       "    <tr>\n",
       "      <th>0</th>\n",
       "      <td>🐒</td>\n",
       "      <td>1</td>\n",
       "      <td>2896006.0</td>\n",
       "      <td>2896006.0</td>\n",
       "    </tr>\n",
       "    <tr>\n",
       "      <th>1</th>\n",
       "      <td>😂</td>\n",
       "      <td>535</td>\n",
       "      <td>762943.0</td>\n",
       "      <td>1426.0</td>\n",
       "    </tr>\n",
       "    <tr>\n",
       "      <th>2</th>\n",
       "      <td>✔️</td>\n",
       "      <td>136</td>\n",
       "      <td>476351.0</td>\n",
       "      <td>3503.0</td>\n",
       "    </tr>\n",
       "    <tr>\n",
       "      <th>3</th>\n",
       "      <td>🤣</td>\n",
       "      <td>177</td>\n",
       "      <td>359634.0</td>\n",
       "      <td>2032.0</td>\n",
       "    </tr>\n",
       "    <tr>\n",
       "      <th>4</th>\n",
       "      <td>🇺🇸</td>\n",
       "      <td>48</td>\n",
       "      <td>322516.0</td>\n",
       "      <td>6719.0</td>\n",
       "    </tr>\n",
       "    <tr>\n",
       "      <th>5</th>\n",
       "      <td>🏈</td>\n",
       "      <td>80</td>\n",
       "      <td>288040.0</td>\n",
       "      <td>3600.0</td>\n",
       "    </tr>\n",
       "    <tr>\n",
       "      <th>6</th>\n",
       "      <td>🔥</td>\n",
       "      <td>122</td>\n",
       "      <td>232236.0</td>\n",
       "      <td>1904.0</td>\n",
       "    </tr>\n",
       "    <tr>\n",
       "      <th>7</th>\n",
       "      <td>😘</td>\n",
       "      <td>13</td>\n",
       "      <td>199547.0</td>\n",
       "      <td>15350.0</td>\n",
       "    </tr>\n",
       "    <tr>\n",
       "      <th>8</th>\n",
       "      <td>👮‍♂️</td>\n",
       "      <td>2</td>\n",
       "      <td>189520.0</td>\n",
       "      <td>94760.0</td>\n",
       "    </tr>\n",
       "    <tr>\n",
       "      <th>9</th>\n",
       "      <td>😃</td>\n",
       "      <td>13</td>\n",
       "      <td>173217.0</td>\n",
       "      <td>13324.0</td>\n",
       "    </tr>\n",
       "    <tr>\n",
       "      <th>10</th>\n",
       "      <td>👮‍♀️</td>\n",
       "      <td>1</td>\n",
       "      <td>165309.0</td>\n",
       "      <td>165309.0</td>\n",
       "    </tr>\n",
       "    <tr>\n",
       "      <th>11</th>\n",
       "      <td>🤖</td>\n",
       "      <td>3</td>\n",
       "      <td>165183.0</td>\n",
       "      <td>55061.0</td>\n",
       "    </tr>\n",
       "    <tr>\n",
       "      <th>12</th>\n",
       "      <td>👍</td>\n",
       "      <td>15</td>\n",
       "      <td>151181.0</td>\n",
       "      <td>10079.0</td>\n",
       "    </tr>\n",
       "    <tr>\n",
       "      <th>13</th>\n",
       "      <td>⭐</td>\n",
       "      <td>28</td>\n",
       "      <td>134714.0</td>\n",
       "      <td>4811.0</td>\n",
       "    </tr>\n",
       "    <tr>\n",
       "      <th>14</th>\n",
       "      <td>♥️</td>\n",
       "      <td>9</td>\n",
       "      <td>125892.0</td>\n",
       "      <td>13988.0</td>\n",
       "    </tr>\n",
       "  </tbody>\n",
       "</table>\n",
       "</div>"
      ],
      "text/plain": [
       "    word  abs_freq   wtd_freq  rel_value\n",
       "0      🐒         1  2896006.0  2896006.0\n",
       "1      😂       535   762943.0     1426.0\n",
       "2     ✔️       136   476351.0     3503.0\n",
       "3      🤣       177   359634.0     2032.0\n",
       "4     🇺🇸        48   322516.0     6719.0\n",
       "5      🏈        80   288040.0     3600.0\n",
       "6      🔥       122   232236.0     1904.0\n",
       "7      😘        13   199547.0    15350.0\n",
       "8   👮‍♂️         2   189520.0    94760.0\n",
       "9      😃        13   173217.0    13324.0\n",
       "10  👮‍♀️         1   165309.0   165309.0\n",
       "11     🤖         3   165183.0    55061.0\n",
       "12     👍        15   151181.0    10079.0\n",
       "13     ⭐        28   134714.0     4811.0\n",
       "14    ♥️         9   125892.0    13988.0"
      ]
     },
     "execution_count": 35,
     "metadata": {},
     "output_type": "execute_result"
    }
   ],
   "source": [
    "import advertools as adv\n",
    "justdoit_emoji_freq = (adv.word_frequency(justdoit['tweet_full_text'],\n",
    "                                          justdoit['user_followers_count'],\n",
    "                                          regex=all_emoji_regex.pattern))\n",
    "justdoit_emoji_freq.head(15)"
   ]
  },
  {
   "cell_type": "markdown",
   "id": "352ca414",
   "metadata": {
    "papermill": {
     "duration": 0.023575,
     "end_time": "2023-08-07T22:49:43.707009",
     "exception": false,
     "start_time": "2023-08-07T22:49:43.683434",
     "status": "completed"
    },
    "tags": []
   },
   "source": [
    "The `abs_freq` column shows how many times each emoji was used (simply count). While `wtd_freq` counts the number of followers of the person who tweeted the tweet for each occurrence.  \n",
    "In sample above you can see the monkey emoji being used only once, but since the user who tweeted has 2.9M followers, it has the highest `wtd_freq` of all emoji.  \n",
    "\n",
    "Using the emoji_dict that we created we can show names, groups, and sub-groups of each emoji:"
   ]
  },
  {
   "cell_type": "code",
   "execution_count": 36,
   "id": "8a1537d3",
   "metadata": {
    "execution": {
     "iopub.execute_input": "2023-08-07T22:49:43.757897Z",
     "iopub.status.busy": "2023-08-07T22:49:43.755656Z",
     "iopub.status.idle": "2023-08-07T22:49:43.795861Z",
     "shell.execute_reply": "2023-08-07T22:49:43.794293Z"
    },
    "papermill": {
     "duration": 0.067717,
     "end_time": "2023-08-07T22:49:43.798380",
     "exception": false,
     "start_time": "2023-08-07T22:49:43.730663",
     "status": "completed"
    },
    "tags": []
   },
   "outputs": [
    {
     "data": {
      "text/html": [
       "<div>\n",
       "<style scoped>\n",
       "    .dataframe tbody tr th:only-of-type {\n",
       "        vertical-align: middle;\n",
       "    }\n",
       "\n",
       "    .dataframe tbody tr th {\n",
       "        vertical-align: top;\n",
       "    }\n",
       "\n",
       "    .dataframe thead th {\n",
       "        text-align: right;\n",
       "    }\n",
       "</style>\n",
       "<table border=\"1\" class=\"dataframe\">\n",
       "  <thead>\n",
       "    <tr style=\"text-align: right;\">\n",
       "      <th></th>\n",
       "      <th>word</th>\n",
       "      <th>abs_freq</th>\n",
       "      <th>wtd_freq</th>\n",
       "      <th>rel_value</th>\n",
       "      <th>name</th>\n",
       "      <th>group</th>\n",
       "      <th>sub_group</th>\n",
       "    </tr>\n",
       "  </thead>\n",
       "  <tbody>\n",
       "    <tr>\n",
       "      <th>0</th>\n",
       "      <td>🐒</td>\n",
       "      <td>1</td>\n",
       "      <td>2896006.0</td>\n",
       "      <td>2896006.0</td>\n",
       "      <td>monkey</td>\n",
       "      <td>Animals &amp; Nature</td>\n",
       "      <td>animal-mammal</td>\n",
       "    </tr>\n",
       "    <tr>\n",
       "      <th>1</th>\n",
       "      <td>😂</td>\n",
       "      <td>535</td>\n",
       "      <td>762943.0</td>\n",
       "      <td>1426.0</td>\n",
       "      <td>face with tears of joy</td>\n",
       "      <td>Smileys &amp; Emotion</td>\n",
       "      <td>face-smiling</td>\n",
       "    </tr>\n",
       "    <tr>\n",
       "      <th>2</th>\n",
       "      <td>✔️</td>\n",
       "      <td>136</td>\n",
       "      <td>476351.0</td>\n",
       "      <td>3503.0</td>\n",
       "      <td>check mark</td>\n",
       "      <td>Symbols</td>\n",
       "      <td>other-symbol</td>\n",
       "    </tr>\n",
       "    <tr>\n",
       "      <th>3</th>\n",
       "      <td>🤣</td>\n",
       "      <td>177</td>\n",
       "      <td>359634.0</td>\n",
       "      <td>2032.0</td>\n",
       "      <td>rolling on the floor laughing</td>\n",
       "      <td>Smileys &amp; Emotion</td>\n",
       "      <td>face-smiling</td>\n",
       "    </tr>\n",
       "    <tr>\n",
       "      <th>4</th>\n",
       "      <td>🇺🇸</td>\n",
       "      <td>48</td>\n",
       "      <td>322516.0</td>\n",
       "      <td>6719.0</td>\n",
       "      <td>flag: United States</td>\n",
       "      <td>Flags</td>\n",
       "      <td>country-flag</td>\n",
       "    </tr>\n",
       "    <tr>\n",
       "      <th>5</th>\n",
       "      <td>🏈</td>\n",
       "      <td>80</td>\n",
       "      <td>288040.0</td>\n",
       "      <td>3600.0</td>\n",
       "      <td>american football</td>\n",
       "      <td>Activities</td>\n",
       "      <td>sport</td>\n",
       "    </tr>\n",
       "    <tr>\n",
       "      <th>6</th>\n",
       "      <td>🔥</td>\n",
       "      <td>122</td>\n",
       "      <td>232236.0</td>\n",
       "      <td>1904.0</td>\n",
       "      <td>fire</td>\n",
       "      <td>Travel &amp; Places</td>\n",
       "      <td>sky &amp; weather</td>\n",
       "    </tr>\n",
       "    <tr>\n",
       "      <th>7</th>\n",
       "      <td>😘</td>\n",
       "      <td>13</td>\n",
       "      <td>199547.0</td>\n",
       "      <td>15350.0</td>\n",
       "      <td>face blowing a kiss</td>\n",
       "      <td>Smileys &amp; Emotion</td>\n",
       "      <td>face-affection</td>\n",
       "    </tr>\n",
       "    <tr>\n",
       "      <th>8</th>\n",
       "      <td>👮‍♂️</td>\n",
       "      <td>2</td>\n",
       "      <td>189520.0</td>\n",
       "      <td>94760.0</td>\n",
       "      <td>man police officer</td>\n",
       "      <td>People &amp; Body</td>\n",
       "      <td>person-role</td>\n",
       "    </tr>\n",
       "    <tr>\n",
       "      <th>9</th>\n",
       "      <td>😃</td>\n",
       "      <td>13</td>\n",
       "      <td>173217.0</td>\n",
       "      <td>13324.0</td>\n",
       "      <td>grinning face with big eyes</td>\n",
       "      <td>Smileys &amp; Emotion</td>\n",
       "      <td>face-smiling</td>\n",
       "    </tr>\n",
       "    <tr>\n",
       "      <th>10</th>\n",
       "      <td>👮‍♀️</td>\n",
       "      <td>1</td>\n",
       "      <td>165309.0</td>\n",
       "      <td>165309.0</td>\n",
       "      <td>woman police officer</td>\n",
       "      <td>People &amp; Body</td>\n",
       "      <td>person-role</td>\n",
       "    </tr>\n",
       "    <tr>\n",
       "      <th>11</th>\n",
       "      <td>🤖</td>\n",
       "      <td>3</td>\n",
       "      <td>165183.0</td>\n",
       "      <td>55061.0</td>\n",
       "      <td>robot</td>\n",
       "      <td>Smileys &amp; Emotion</td>\n",
       "      <td>face-costume</td>\n",
       "    </tr>\n",
       "    <tr>\n",
       "      <th>12</th>\n",
       "      <td>👍</td>\n",
       "      <td>15</td>\n",
       "      <td>151181.0</td>\n",
       "      <td>10079.0</td>\n",
       "      <td>thumbs up</td>\n",
       "      <td>People &amp; Body</td>\n",
       "      <td>hand-fingers-closed</td>\n",
       "    </tr>\n",
       "    <tr>\n",
       "      <th>13</th>\n",
       "      <td>⭐</td>\n",
       "      <td>28</td>\n",
       "      <td>134714.0</td>\n",
       "      <td>4811.0</td>\n",
       "      <td>star</td>\n",
       "      <td>Travel &amp; Places</td>\n",
       "      <td>sky &amp; weather</td>\n",
       "    </tr>\n",
       "    <tr>\n",
       "      <th>14</th>\n",
       "      <td>♥️</td>\n",
       "      <td>9</td>\n",
       "      <td>125892.0</td>\n",
       "      <td>13988.0</td>\n",
       "      <td>heart suit</td>\n",
       "      <td>Activities</td>\n",
       "      <td>game</td>\n",
       "    </tr>\n",
       "    <tr>\n",
       "      <th>15</th>\n",
       "      <td>✊🏾</td>\n",
       "      <td>42</td>\n",
       "      <td>123119.0</td>\n",
       "      <td>2931.0</td>\n",
       "      <td>raised fist: medium-dark skin tone</td>\n",
       "      <td>People &amp; Body</td>\n",
       "      <td>hand-fingers-closed</td>\n",
       "    </tr>\n",
       "    <tr>\n",
       "      <th>16</th>\n",
       "      <td>🤪</td>\n",
       "      <td>5</td>\n",
       "      <td>120962.0</td>\n",
       "      <td>24192.0</td>\n",
       "      <td>zany face</td>\n",
       "      <td>Smileys &amp; Emotion</td>\n",
       "      <td>face-tongue</td>\n",
       "    </tr>\n",
       "    <tr>\n",
       "      <th>17</th>\n",
       "      <td>⛪</td>\n",
       "      <td>1</td>\n",
       "      <td>85177.0</td>\n",
       "      <td>85177.0</td>\n",
       "      <td>church</td>\n",
       "      <td>Travel &amp; Places</td>\n",
       "      <td>place-religious</td>\n",
       "    </tr>\n",
       "    <tr>\n",
       "      <th>18</th>\n",
       "      <td>🔹</td>\n",
       "      <td>7</td>\n",
       "      <td>79286.0</td>\n",
       "      <td>11327.0</td>\n",
       "      <td>small blue diamond</td>\n",
       "      <td>Symbols</td>\n",
       "      <td>geometric</td>\n",
       "    </tr>\n",
       "    <tr>\n",
       "      <th>19</th>\n",
       "      <td>😭</td>\n",
       "      <td>46</td>\n",
       "      <td>70061.0</td>\n",
       "      <td>1523.0</td>\n",
       "      <td>loudly crying face</td>\n",
       "      <td>Smileys &amp; Emotion</td>\n",
       "      <td>face-concerned</td>\n",
       "    </tr>\n",
       "    <tr>\n",
       "      <th>20</th>\n",
       "      <td>😶</td>\n",
       "      <td>3</td>\n",
       "      <td>66782.0</td>\n",
       "      <td>22261.0</td>\n",
       "      <td>face without mouth</td>\n",
       "      <td>Smileys &amp; Emotion</td>\n",
       "      <td>face-neutral-skeptical</td>\n",
       "    </tr>\n",
       "    <tr>\n",
       "      <th>21</th>\n",
       "      <td>💯</td>\n",
       "      <td>50</td>\n",
       "      <td>62637.0</td>\n",
       "      <td>1253.0</td>\n",
       "      <td>hundred points</td>\n",
       "      <td>Smileys &amp; Emotion</td>\n",
       "      <td>emotion</td>\n",
       "    </tr>\n",
       "    <tr>\n",
       "      <th>22</th>\n",
       "      <td>😝</td>\n",
       "      <td>2</td>\n",
       "      <td>58941.0</td>\n",
       "      <td>29470.0</td>\n",
       "      <td>squinting face with tongue</td>\n",
       "      <td>Smileys &amp; Emotion</td>\n",
       "      <td>face-tongue</td>\n",
       "    </tr>\n",
       "    <tr>\n",
       "      <th>23</th>\n",
       "      <td>🚨</td>\n",
       "      <td>22</td>\n",
       "      <td>58750.0</td>\n",
       "      <td>2670.0</td>\n",
       "      <td>police car light</td>\n",
       "      <td>Travel &amp; Places</td>\n",
       "      <td>transport-ground</td>\n",
       "    </tr>\n",
       "    <tr>\n",
       "      <th>24</th>\n",
       "      <td>👏</td>\n",
       "      <td>29</td>\n",
       "      <td>55444.0</td>\n",
       "      <td>1912.0</td>\n",
       "      <td>clapping hands</td>\n",
       "      <td>People &amp; Body</td>\n",
       "      <td>hands</td>\n",
       "    </tr>\n",
       "    <tr>\n",
       "      <th>25</th>\n",
       "      <td>👟</td>\n",
       "      <td>39</td>\n",
       "      <td>53483.0</td>\n",
       "      <td>1371.0</td>\n",
       "      <td>running shoe</td>\n",
       "      <td>Objects</td>\n",
       "      <td>clothing</td>\n",
       "    </tr>\n",
       "    <tr>\n",
       "      <th>26</th>\n",
       "      <td>👏🏻</td>\n",
       "      <td>21</td>\n",
       "      <td>48438.0</td>\n",
       "      <td>2307.0</td>\n",
       "      <td>clapping hands: light skin tone</td>\n",
       "      <td>People &amp; Body</td>\n",
       "      <td>hands</td>\n",
       "    </tr>\n",
       "    <tr>\n",
       "      <th>27</th>\n",
       "      <td>✅</td>\n",
       "      <td>26</td>\n",
       "      <td>47537.0</td>\n",
       "      <td>1828.0</td>\n",
       "      <td>check mark button</td>\n",
       "      <td>Symbols</td>\n",
       "      <td>other-symbol</td>\n",
       "    </tr>\n",
       "    <tr>\n",
       "      <th>28</th>\n",
       "      <td>❤️</td>\n",
       "      <td>69</td>\n",
       "      <td>43847.0</td>\n",
       "      <td>635.0</td>\n",
       "      <td>red heart</td>\n",
       "      <td>Smileys &amp; Emotion</td>\n",
       "      <td>heart</td>\n",
       "    </tr>\n",
       "    <tr>\n",
       "      <th>29</th>\n",
       "      <td>🤔</td>\n",
       "      <td>31</td>\n",
       "      <td>42819.0</td>\n",
       "      <td>1381.0</td>\n",
       "      <td>thinking face</td>\n",
       "      <td>Smileys &amp; Emotion</td>\n",
       "      <td>face-hand</td>\n",
       "    </tr>\n",
       "    <tr>\n",
       "      <th>30</th>\n",
       "      <td>🧐</td>\n",
       "      <td>4</td>\n",
       "      <td>38721.0</td>\n",
       "      <td>9680.0</td>\n",
       "      <td>face with monocle</td>\n",
       "      <td>Smileys &amp; Emotion</td>\n",
       "      <td>face-glasses</td>\n",
       "    </tr>\n",
       "    <tr>\n",
       "      <th>31</th>\n",
       "      <td>😎</td>\n",
       "      <td>28</td>\n",
       "      <td>38291.0</td>\n",
       "      <td>1368.0</td>\n",
       "      <td>smiling face with sunglasses</td>\n",
       "      <td>Smileys &amp; Emotion</td>\n",
       "      <td>face-glasses</td>\n",
       "    </tr>\n",
       "    <tr>\n",
       "      <th>32</th>\n",
       "      <td>👀</td>\n",
       "      <td>37</td>\n",
       "      <td>37159.0</td>\n",
       "      <td>1004.0</td>\n",
       "      <td>eyes</td>\n",
       "      <td>People &amp; Body</td>\n",
       "      <td>body-parts</td>\n",
       "    </tr>\n",
       "    <tr>\n",
       "      <th>33</th>\n",
       "      <td>😊</td>\n",
       "      <td>19</td>\n",
       "      <td>35882.0</td>\n",
       "      <td>1889.0</td>\n",
       "      <td>smiling face with smiling eyes</td>\n",
       "      <td>Smileys &amp; Emotion</td>\n",
       "      <td>face-smiling</td>\n",
       "    </tr>\n",
       "    <tr>\n",
       "      <th>34</th>\n",
       "      <td>💥</td>\n",
       "      <td>10</td>\n",
       "      <td>35720.0</td>\n",
       "      <td>3572.0</td>\n",
       "      <td>collision</td>\n",
       "      <td>Smileys &amp; Emotion</td>\n",
       "      <td>emotion</td>\n",
       "    </tr>\n",
       "    <tr>\n",
       "      <th>35</th>\n",
       "      <td>💙</td>\n",
       "      <td>49</td>\n",
       "      <td>35494.0</td>\n",
       "      <td>724.0</td>\n",
       "      <td>blue heart</td>\n",
       "      <td>Smileys &amp; Emotion</td>\n",
       "      <td>heart</td>\n",
       "    </tr>\n",
       "    <tr>\n",
       "      <th>36</th>\n",
       "      <td>💕</td>\n",
       "      <td>8</td>\n",
       "      <td>34864.0</td>\n",
       "      <td>4358.0</td>\n",
       "      <td>two hearts</td>\n",
       "      <td>Smileys &amp; Emotion</td>\n",
       "      <td>heart</td>\n",
       "    </tr>\n",
       "    <tr>\n",
       "      <th>37</th>\n",
       "      <td>🙏</td>\n",
       "      <td>13</td>\n",
       "      <td>34848.0</td>\n",
       "      <td>2681.0</td>\n",
       "      <td>folded hands</td>\n",
       "      <td>People &amp; Body</td>\n",
       "      <td>hands</td>\n",
       "    </tr>\n",
       "    <tr>\n",
       "      <th>38</th>\n",
       "      <td>🙌🏾</td>\n",
       "      <td>20</td>\n",
       "      <td>34376.0</td>\n",
       "      <td>1719.0</td>\n",
       "      <td>raising hands: medium-dark skin tone</td>\n",
       "      <td>People &amp; Body</td>\n",
       "      <td>hands</td>\n",
       "    </tr>\n",
       "    <tr>\n",
       "      <th>39</th>\n",
       "      <td>💪🏻</td>\n",
       "      <td>7</td>\n",
       "      <td>34162.0</td>\n",
       "      <td>4880.0</td>\n",
       "      <td>flexed biceps: light skin tone</td>\n",
       "      <td>People &amp; Body</td>\n",
       "      <td>body-parts</td>\n",
       "    </tr>\n",
       "  </tbody>\n",
       "</table>\n",
       "</div>"
      ],
      "text/plain": [
       "    word  abs_freq   wtd_freq  rel_value  \\\n",
       "0      🐒         1  2896006.0  2896006.0   \n",
       "1      😂       535   762943.0     1426.0   \n",
       "2     ✔️       136   476351.0     3503.0   \n",
       "3      🤣       177   359634.0     2032.0   \n",
       "4     🇺🇸        48   322516.0     6719.0   \n",
       "5      🏈        80   288040.0     3600.0   \n",
       "6      🔥       122   232236.0     1904.0   \n",
       "7      😘        13   199547.0    15350.0   \n",
       "8   👮‍♂️         2   189520.0    94760.0   \n",
       "9      😃        13   173217.0    13324.0   \n",
       "10  👮‍♀️         1   165309.0   165309.0   \n",
       "11     🤖         3   165183.0    55061.0   \n",
       "12     👍        15   151181.0    10079.0   \n",
       "13     ⭐        28   134714.0     4811.0   \n",
       "14    ♥️         9   125892.0    13988.0   \n",
       "15    ✊🏾        42   123119.0     2931.0   \n",
       "16     🤪         5   120962.0    24192.0   \n",
       "17     ⛪         1    85177.0    85177.0   \n",
       "18     🔹         7    79286.0    11327.0   \n",
       "19     😭        46    70061.0     1523.0   \n",
       "20     😶         3    66782.0    22261.0   \n",
       "21     💯        50    62637.0     1253.0   \n",
       "22     😝         2    58941.0    29470.0   \n",
       "23     🚨        22    58750.0     2670.0   \n",
       "24     👏        29    55444.0     1912.0   \n",
       "25     👟        39    53483.0     1371.0   \n",
       "26    👏🏻        21    48438.0     2307.0   \n",
       "27     ✅        26    47537.0     1828.0   \n",
       "28    ❤️        69    43847.0      635.0   \n",
       "29     🤔        31    42819.0     1381.0   \n",
       "30     🧐         4    38721.0     9680.0   \n",
       "31     😎        28    38291.0     1368.0   \n",
       "32     👀        37    37159.0     1004.0   \n",
       "33     😊        19    35882.0     1889.0   \n",
       "34     💥        10    35720.0     3572.0   \n",
       "35     💙        49    35494.0      724.0   \n",
       "36     💕         8    34864.0     4358.0   \n",
       "37     🙏        13    34848.0     2681.0   \n",
       "38    🙌🏾        20    34376.0     1719.0   \n",
       "39    💪🏻         7    34162.0     4880.0   \n",
       "\n",
       "                                    name              group  \\\n",
       "0                                 monkey   Animals & Nature   \n",
       "1                 face with tears of joy  Smileys & Emotion   \n",
       "2                             check mark            Symbols   \n",
       "3          rolling on the floor laughing  Smileys & Emotion   \n",
       "4                    flag: United States              Flags   \n",
       "5                      american football         Activities   \n",
       "6                                   fire    Travel & Places   \n",
       "7                    face blowing a kiss  Smileys & Emotion   \n",
       "8                     man police officer      People & Body   \n",
       "9            grinning face with big eyes  Smileys & Emotion   \n",
       "10                  woman police officer      People & Body   \n",
       "11                                 robot  Smileys & Emotion   \n",
       "12                             thumbs up      People & Body   \n",
       "13                                  star    Travel & Places   \n",
       "14                            heart suit         Activities   \n",
       "15    raised fist: medium-dark skin tone      People & Body   \n",
       "16                             zany face  Smileys & Emotion   \n",
       "17                                church    Travel & Places   \n",
       "18                    small blue diamond            Symbols   \n",
       "19                    loudly crying face  Smileys & Emotion   \n",
       "20                    face without mouth  Smileys & Emotion   \n",
       "21                        hundred points  Smileys & Emotion   \n",
       "22            squinting face with tongue  Smileys & Emotion   \n",
       "23                      police car light    Travel & Places   \n",
       "24                        clapping hands      People & Body   \n",
       "25                          running shoe            Objects   \n",
       "26       clapping hands: light skin tone      People & Body   \n",
       "27                     check mark button            Symbols   \n",
       "28                             red heart  Smileys & Emotion   \n",
       "29                         thinking face  Smileys & Emotion   \n",
       "30                     face with monocle  Smileys & Emotion   \n",
       "31          smiling face with sunglasses  Smileys & Emotion   \n",
       "32                                  eyes      People & Body   \n",
       "33        smiling face with smiling eyes  Smileys & Emotion   \n",
       "34                             collision  Smileys & Emotion   \n",
       "35                            blue heart  Smileys & Emotion   \n",
       "36                            two hearts  Smileys & Emotion   \n",
       "37                          folded hands      People & Body   \n",
       "38  raising hands: medium-dark skin tone      People & Body   \n",
       "39        flexed biceps: light skin tone      People & Body   \n",
       "\n",
       "                 sub_group  \n",
       "0            animal-mammal  \n",
       "1             face-smiling  \n",
       "2             other-symbol  \n",
       "3             face-smiling  \n",
       "4             country-flag  \n",
       "5                    sport  \n",
       "6            sky & weather  \n",
       "7           face-affection  \n",
       "8              person-role  \n",
       "9             face-smiling  \n",
       "10             person-role  \n",
       "11            face-costume  \n",
       "12     hand-fingers-closed  \n",
       "13           sky & weather  \n",
       "14                    game  \n",
       "15     hand-fingers-closed  \n",
       "16             face-tongue  \n",
       "17         place-religious  \n",
       "18               geometric  \n",
       "19          face-concerned  \n",
       "20  face-neutral-skeptical  \n",
       "21                 emotion  \n",
       "22             face-tongue  \n",
       "23        transport-ground  \n",
       "24                   hands  \n",
       "25                clothing  \n",
       "26                   hands  \n",
       "27            other-symbol  \n",
       "28                   heart  \n",
       "29               face-hand  \n",
       "30            face-glasses  \n",
       "31            face-glasses  \n",
       "32              body-parts  \n",
       "33            face-smiling  \n",
       "34                 emotion  \n",
       "35                   heart  \n",
       "36                   heart  \n",
       "37                   hands  \n",
       "38                   hands  \n",
       "39              body-parts  "
      ]
     },
     "execution_count": 36,
     "metadata": {},
     "output_type": "execute_result"
    }
   ],
   "source": [
    "justdoit_emoji_freq['name'] = [emoji_dict[word].name if word != '️' else '' for word in justdoit_emoji_freq['word']]\n",
    "justdoit_emoji_freq['group'] = [emoji_dict[word].group if word != '️' else '' for word in justdoit_emoji_freq['word']]\n",
    "justdoit_emoji_freq['sub_group'] = [emoji_dict[word].sub_group if word != '️' else '' for word in justdoit_emoji_freq['word']]\n",
    "justdoit_emoji_freq[:40]"
   ]
  },
  {
   "cell_type": "markdown",
   "id": "1cf43daa",
   "metadata": {
    "papermill": {
     "duration": 0.024564,
     "end_time": "2023-08-07T22:49:43.847257",
     "exception": false,
     "start_time": "2023-08-07T22:49:43.822693",
     "status": "completed"
    },
    "tags": []
   },
   "source": [
    "The previous table shows the frequencies per emoji.  \n",
    "What about the groups and sub-groups? \n",
    "\n",
    "We do this next: "
   ]
  },
  {
   "cell_type": "code",
   "execution_count": 37,
   "id": "8de1482f",
   "metadata": {
    "execution": {
     "iopub.execute_input": "2023-08-07T22:49:43.898807Z",
     "iopub.status.busy": "2023-08-07T22:49:43.898342Z",
     "iopub.status.idle": "2023-08-07T22:49:43.980001Z",
     "shell.execute_reply": "2023-08-07T22:49:43.978380Z"
    },
    "papermill": {
     "duration": 0.110671,
     "end_time": "2023-08-07T22:49:43.982905",
     "exception": false,
     "start_time": "2023-08-07T22:49:43.872234",
     "status": "completed"
    },
    "tags": []
   },
   "outputs": [
    {
     "data": {
      "text/html": [
       "<style type=\"text/css\">\n",
       "</style>\n",
       "<table id=\"T_d123c\">\n",
       "  <thead>\n",
       "    <tr>\n",
       "      <th class=\"blank level0\" >&nbsp;</th>\n",
       "      <th id=\"T_d123c_level0_col0\" class=\"col_heading level0 col0\" >abs_freq</th>\n",
       "      <th id=\"T_d123c_level0_col1\" class=\"col_heading level0 col1\" >wtd_freq</th>\n",
       "    </tr>\n",
       "    <tr>\n",
       "      <th class=\"index_name level0\" >group</th>\n",
       "      <th class=\"blank col0\" >&nbsp;</th>\n",
       "      <th class=\"blank col1\" >&nbsp;</th>\n",
       "    </tr>\n",
       "  </thead>\n",
       "  <tbody>\n",
       "    <tr>\n",
       "      <th id=\"T_d123c_level0_row0\" class=\"row_heading level0 row0\" >Animals & Nature</th>\n",
       "      <td id=\"T_d123c_row0_col0\" class=\"data row0 col0\" >38</td>\n",
       "      <td id=\"T_d123c_row0_col1\" class=\"data row0 col1\" >2,976,109</td>\n",
       "    </tr>\n",
       "    <tr>\n",
       "      <th id=\"T_d123c_level0_row1\" class=\"row_heading level0 row1\" >Smileys & Emotion</th>\n",
       "      <td id=\"T_d123c_row1_col0\" class=\"data row1 col0\" >1440</td>\n",
       "      <td id=\"T_d123c_row1_col1\" class=\"data row1 col1\" >2,784,394</td>\n",
       "    </tr>\n",
       "    <tr>\n",
       "      <th id=\"T_d123c_level0_row2\" class=\"row_heading level0 row2\" >People & Body</th>\n",
       "      <td id=\"T_d123c_row2_col0\" class=\"data row2 col0\" >778</td>\n",
       "      <td id=\"T_d123c_row2_col1\" class=\"data row2 col1\" >1,528,755</td>\n",
       "    </tr>\n",
       "    <tr>\n",
       "      <th id=\"T_d123c_level0_row3\" class=\"row_heading level0 row3\" >Symbols</th>\n",
       "      <td id=\"T_d123c_row3_col0\" class=\"data row3 col0\" >246</td>\n",
       "      <td id=\"T_d123c_row3_col1\" class=\"data row3 col1\" >689,172</td>\n",
       "    </tr>\n",
       "    <tr>\n",
       "      <th id=\"T_d123c_level0_row4\" class=\"row_heading level0 row4\" >Travel & Places</th>\n",
       "      <td id=\"T_d123c_row4_col0\" class=\"data row4 col0\" >241</td>\n",
       "      <td id=\"T_d123c_row4_col1\" class=\"data row4 col1\" >597,755</td>\n",
       "    </tr>\n",
       "    <tr>\n",
       "      <th id=\"T_d123c_level0_row5\" class=\"row_heading level0 row5\" >Activities</th>\n",
       "      <td id=\"T_d123c_row5_col0\" class=\"data row5 col0\" >208</td>\n",
       "      <td id=\"T_d123c_row5_col1\" class=\"data row5 col1\" >500,055</td>\n",
       "    </tr>\n",
       "    <tr>\n",
       "      <th id=\"T_d123c_level0_row6\" class=\"row_heading level0 row6\" >Flags</th>\n",
       "      <td id=\"T_d123c_row6_col0\" class=\"data row6 col0\" >63</td>\n",
       "      <td id=\"T_d123c_row6_col1\" class=\"data row6 col1\" >341,367</td>\n",
       "    </tr>\n",
       "    <tr>\n",
       "      <th id=\"T_d123c_level0_row7\" class=\"row_heading level0 row7\" >Objects</th>\n",
       "      <td id=\"T_d123c_row7_col0\" class=\"data row7 col0\" >145</td>\n",
       "      <td id=\"T_d123c_row7_col1\" class=\"data row7 col1\" >207,072</td>\n",
       "    </tr>\n",
       "    <tr>\n",
       "      <th id=\"T_d123c_level0_row8\" class=\"row_heading level0 row8\" >Food & Drink</th>\n",
       "      <td id=\"T_d123c_row8_col0\" class=\"data row8 col0\" >13</td>\n",
       "      <td id=\"T_d123c_row8_col1\" class=\"data row8 col1\" >29,744</td>\n",
       "    </tr>\n",
       "    <tr>\n",
       "      <th id=\"T_d123c_level0_row9\" class=\"row_heading level0 row9\" ></th>\n",
       "      <td id=\"T_d123c_row9_col0\" class=\"data row9 col0\" >15</td>\n",
       "      <td id=\"T_d123c_row9_col1\" class=\"data row9 col1\" >15,484</td>\n",
       "    </tr>\n",
       "  </tbody>\n",
       "</table>\n"
      ],
      "text/plain": [
       "<pandas.io.formats.style.Styler at 0x784b664036a0>"
      ]
     },
     "execution_count": 37,
     "metadata": {},
     "output_type": "execute_result"
    }
   ],
   "source": [
    "(justdoit_emoji_freq\n",
    " .groupby('group')\n",
    " .agg({'abs_freq': 'sum', 'wtd_freq': 'sum'})\n",
    " .sort_values('wtd_freq', ascending=False)\n",
    " .style.format({'wtd_freq': '{:,.0f}'}))"
   ]
  },
  {
   "cell_type": "markdown",
   "id": "8521dfb5",
   "metadata": {
    "papermill": {
     "duration": 0.025076,
     "end_time": "2023-08-07T22:49:44.033969",
     "exception": false,
     "start_time": "2023-08-07T22:49:44.008893",
     "status": "completed"
    },
    "tags": []
   },
   "source": [
    "Note here that again, even though \"Smileys & Emotion\" emoji have been used 1,440 times and \"Animals & Nature\" only 38, the latter still ranks higher on a weighted basis.  \n",
    "This is typical on social media. We often get a dataset that gets skewed by one tweet/user. "
   ]
  },
  {
   "cell_type": "code",
   "execution_count": 38,
   "id": "ee1ed6a8",
   "metadata": {
    "execution": {
     "iopub.execute_input": "2023-08-07T22:49:44.087909Z",
     "iopub.status.busy": "2023-08-07T22:49:44.087453Z",
     "iopub.status.idle": "2023-08-07T22:49:44.107890Z",
     "shell.execute_reply": "2023-08-07T22:49:44.106081Z"
    },
    "papermill": {
     "duration": 0.052335,
     "end_time": "2023-08-07T22:49:44.111457",
     "exception": false,
     "start_time": "2023-08-07T22:49:44.059122",
     "status": "completed"
    },
    "tags": []
   },
   "outputs": [
    {
     "data": {
      "text/html": [
       "<style type=\"text/css\">\n",
       "</style>\n",
       "<table id=\"T_85593\">\n",
       "  <thead>\n",
       "    <tr>\n",
       "      <th class=\"blank level0\" >&nbsp;</th>\n",
       "      <th id=\"T_85593_level0_col0\" class=\"col_heading level0 col0\" >abs_freq</th>\n",
       "      <th id=\"T_85593_level0_col1\" class=\"col_heading level0 col1\" >wtd_freq</th>\n",
       "    </tr>\n",
       "    <tr>\n",
       "      <th class=\"index_name level0\" >sub_group</th>\n",
       "      <th class=\"blank col0\" >&nbsp;</th>\n",
       "      <th class=\"blank col1\" >&nbsp;</th>\n",
       "    </tr>\n",
       "  </thead>\n",
       "  <tbody>\n",
       "    <tr>\n",
       "      <th id=\"T_85593_level0_row0\" class=\"row_heading level0 row0\" >animal-mammal</th>\n",
       "      <td id=\"T_85593_row0_col0\" class=\"data row0 col0\" >19</td>\n",
       "      <td id=\"T_85593_row0_col1\" class=\"data row0 col1\" >2,940,580</td>\n",
       "    </tr>\n",
       "    <tr>\n",
       "      <th id=\"T_85593_level0_row1\" class=\"row_heading level0 row1\" >face-smiling</th>\n",
       "      <td id=\"T_85593_row1_col0\" class=\"data row1 col0\" >815</td>\n",
       "      <td id=\"T_85593_row1_col1\" class=\"data row1 col1\" >1,412,457</td>\n",
       "    </tr>\n",
       "    <tr>\n",
       "      <th id=\"T_85593_level0_row2\" class=\"row_heading level0 row2\" >other-symbol</th>\n",
       "      <td id=\"T_85593_row2_col0\" class=\"data row2 col0\" >202</td>\n",
       "      <td id=\"T_85593_row2_col1\" class=\"data row2 col1\" >560,994</td>\n",
       "    </tr>\n",
       "    <tr>\n",
       "      <th id=\"T_85593_level0_row3\" class=\"row_heading level0 row3\" >sky & weather</th>\n",
       "      <td id=\"T_85593_row3_col0\" class=\"data row3 col0\" >177</td>\n",
       "      <td id=\"T_85593_row3_col1\" class=\"data row3 col1\" >407,219</td>\n",
       "    </tr>\n",
       "    <tr>\n",
       "      <th id=\"T_85593_level0_row4\" class=\"row_heading level0 row4\" >person-role</th>\n",
       "      <td id=\"T_85593_row4_col0\" class=\"data row4 col0\" >13</td>\n",
       "      <td id=\"T_85593_row4_col1\" class=\"data row4 col1\" >399,416</td>\n",
       "    </tr>\n",
       "    <tr>\n",
       "      <th id=\"T_85593_level0_row5\" class=\"row_heading level0 row5\" >hand-fingers-closed</th>\n",
       "      <td id=\"T_85593_row5_col0\" class=\"data row5 col0\" >177</td>\n",
       "      <td id=\"T_85593_row5_col1\" class=\"data row5 col1\" >363,482</td>\n",
       "    </tr>\n",
       "    <tr>\n",
       "      <th id=\"T_85593_level0_row6\" class=\"row_heading level0 row6\" >sport</th>\n",
       "      <td id=\"T_85593_row6_col0\" class=\"data row6 col0\" >137</td>\n",
       "      <td id=\"T_85593_row6_col1\" class=\"data row6 col1\" >338,287</td>\n",
       "    </tr>\n",
       "    <tr>\n",
       "      <th id=\"T_85593_level0_row7\" class=\"row_heading level0 row7\" >country-flag</th>\n",
       "      <td id=\"T_85593_row7_col0\" class=\"data row7 col0\" >57</td>\n",
       "      <td id=\"T_85593_row7_col1\" class=\"data row7 col1\" >331,833</td>\n",
       "    </tr>\n",
       "    <tr>\n",
       "      <th id=\"T_85593_level0_row8\" class=\"row_heading level0 row8\" >hands</th>\n",
       "      <td id=\"T_85593_row8_col0\" class=\"data row8 col0\" >225</td>\n",
       "      <td id=\"T_85593_row8_col1\" class=\"data row8 col1\" >315,005</td>\n",
       "    </tr>\n",
       "    <tr>\n",
       "      <th id=\"T_85593_level0_row9\" class=\"row_heading level0 row9\" >face-affection</th>\n",
       "      <td id=\"T_85593_row9_col0\" class=\"data row9 col0\" >44</td>\n",
       "      <td id=\"T_85593_row9_col1\" class=\"data row9 col1\" >222,628</td>\n",
       "    </tr>\n",
       "    <tr>\n",
       "      <th id=\"T_85593_level0_row10\" class=\"row_heading level0 row10\" >face-tongue</th>\n",
       "      <td id=\"T_85593_row10_col0\" class=\"data row10 col0\" >19</td>\n",
       "      <td id=\"T_85593_row10_col1\" class=\"data row10 col1\" >192,865</td>\n",
       "    </tr>\n",
       "    <tr>\n",
       "      <th id=\"T_85593_level0_row11\" class=\"row_heading level0 row11\" >face-costume</th>\n",
       "      <td id=\"T_85593_row11_col0\" class=\"data row11 col0\" >38</td>\n",
       "      <td id=\"T_85593_row11_col1\" class=\"data row11 col1\" >190,887</td>\n",
       "    </tr>\n",
       "    <tr>\n",
       "      <th id=\"T_85593_level0_row12\" class=\"row_heading level0 row12\" >heart</th>\n",
       "      <td id=\"T_85593_row12_col0\" class=\"data row12 col0\" >206</td>\n",
       "      <td id=\"T_85593_row12_col1\" class=\"data row12 col1\" >186,609</td>\n",
       "    </tr>\n",
       "    <tr>\n",
       "      <th id=\"T_85593_level0_row13\" class=\"row_heading level0 row13\" >face-neutral-skeptical</th>\n",
       "      <td id=\"T_85593_row13_col0\" class=\"data row13 col0\" >51</td>\n",
       "      <td id=\"T_85593_row13_col1\" class=\"data row13 col1\" >159,097</td>\n",
       "    </tr>\n",
       "    <tr>\n",
       "      <th id=\"T_85593_level0_row14\" class=\"row_heading level0 row14\" >emotion</th>\n",
       "      <td id=\"T_85593_row14_col0\" class=\"data row14 col0\" >71</td>\n",
       "      <td id=\"T_85593_row14_col1\" class=\"data row14 col1\" >129,992</td>\n",
       "    </tr>\n",
       "    <tr>\n",
       "      <th id=\"T_85593_level0_row15\" class=\"row_heading level0 row15\" >game</th>\n",
       "      <td id=\"T_85593_row15_col0\" class=\"data row15 col0\" >15</td>\n",
       "      <td id=\"T_85593_row15_col1\" class=\"data row15 col1\" >126,385</td>\n",
       "    </tr>\n",
       "    <tr>\n",
       "      <th id=\"T_85593_level0_row16\" class=\"row_heading level0 row16\" >face-concerned</th>\n",
       "      <td id=\"T_85593_row16_col0\" class=\"data row16 col0\" >87</td>\n",
       "      <td id=\"T_85593_row16_col1\" class=\"data row16 col1\" >121,797</td>\n",
       "    </tr>\n",
       "    <tr>\n",
       "      <th id=\"T_85593_level0_row17\" class=\"row_heading level0 row17\" >body-parts</th>\n",
       "      <td id=\"T_85593_row17_col0\" class=\"data row17 col0\" >104</td>\n",
       "      <td id=\"T_85593_row17_col1\" class=\"data row17 col1\" >117,385</td>\n",
       "    </tr>\n",
       "    <tr>\n",
       "      <th id=\"T_85593_level0_row18\" class=\"row_heading level0 row18\" >hand-single-finger</th>\n",
       "      <td id=\"T_85593_row18_col0\" class=\"data row18 col0\" >54</td>\n",
       "      <td id=\"T_85593_row18_col1\" class=\"data row18 col1\" >95,294</td>\n",
       "    </tr>\n",
       "    <tr>\n",
       "      <th id=\"T_85593_level0_row19\" class=\"row_heading level0 row19\" >person-gesture</th>\n",
       "      <td id=\"T_85593_row19_col0\" class=\"data row19 col0\" >78</td>\n",
       "      <td id=\"T_85593_row19_col1\" class=\"data row19 col1\" >92,588</td>\n",
       "    </tr>\n",
       "  </tbody>\n",
       "</table>\n"
      ],
      "text/plain": [
       "<pandas.io.formats.style.Styler at 0x784b66402fe0>"
      ]
     },
     "execution_count": 38,
     "metadata": {},
     "output_type": "execute_result"
    }
   ],
   "source": [
    "(justdoit_emoji_freq\n",
    " .groupby('sub_group')\n",
    " .agg({'abs_freq': 'sum', 'wtd_freq': 'sum'})\n",
    " .sort_values('wtd_freq', ascending=False)\n",
    " .head(20)\n",
    " .style.format({'wtd_freq': '{:,.0f}'}))"
   ]
  }
 ],
 "metadata": {
  "kernelspec": {
   "display_name": "Python 3",
   "language": "python",
   "name": "python3"
  },
  "language_info": {
   "codemirror_mode": {
    "name": "ipython",
    "version": 3
   },
   "file_extension": ".py",
   "mimetype": "text/x-python",
   "name": "python",
   "nbconvert_exporter": "python",
   "pygments_lexer": "ipython3",
   "version": "3.10.12"
  },
  "papermill": {
   "default_parameters": {},
   "duration": 65.706351,
   "end_time": "2023-08-07T22:49:45.665944",
   "environment_variables": {},
   "exception": null,
   "input_path": "__notebook__.ipynb",
   "output_path": "__notebook__.ipynb",
   "parameters": {},
   "start_time": "2023-08-07T22:48:39.959593",
   "version": "2.4.0"
  }
 },
 "nbformat": 4,
 "nbformat_minor": 5
}
